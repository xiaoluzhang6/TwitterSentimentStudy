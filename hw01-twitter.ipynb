{
 "cells": [
  {
   "cell_type": "code",
   "execution_count": 44,
   "metadata": {
    "ExecuteTime": {
     "end_time": "2018-01-17T02:35:07.253010Z",
     "start_time": "2018-01-17T02:35:07.243575Z"
    }
   },
   "outputs": [],
   "source": [
    "import tweepy\n",
    "\n",
    "from IPython.core.interactiveshell import InteractiveShell\n",
    "InteractiveShell.ast_node_interactivity = \"all\""
   ]
  },
  {
   "cell_type": "markdown",
   "metadata": {},
   "source": [
    "# Authentification with Twitter:\n",
    "- Login with code provided through Apps Twitter page __[here](https://apps.twitter.com/)__<br>"
   ]
  },
  {
   "cell_type": "code",
   "execution_count": 45,
   "metadata": {
    "ExecuteTime": {
     "end_time": "2018-01-17T02:35:09.057786Z",
     "start_time": "2018-01-17T02:35:09.045147Z"
    }
   },
   "outputs": [],
   "source": [
    "consumer_key = 's9bim1wFdxeDFJlcSroOAG6AU'\n",
    "consumer_secret = 'o6SvcARK0zzyolmpKQ243962kQpG9x5czZav0xn5hWcY4qOqft'\n",
    "\n",
    "access_token = '4169111415-puwZjB1RJH2ZTtR70kqPlNWAndDVT3sx6759v2s'\n",
    "access_token_secret = 'cr1qAltTRs9MHnyJgO4S6uIGfKPRcsWVNhIeg2L2NmYtL'\n"
   ]
  },
  {
   "cell_type": "markdown",
   "metadata": {},
   "source": [
    "# Provide method and variables for authentification"
   ]
  },
  {
   "cell_type": "code",
   "execution_count": 46,
   "metadata": {
    "ExecuteTime": {
     "end_time": "2018-01-17T02:35:11.271845Z",
     "start_time": "2018-01-17T02:35:11.256742Z"
    }
   },
   "outputs": [],
   "source": [
    "auth = tweepy.OAuthHandler(consumer_key, consumer_secret)\n",
    "auth.set_access_token(access_token, access_token_secret)\n",
    "\n",
    "api = tweepy.API(auth)"
   ]
  },
  {
   "cell_type": "markdown",
   "metadata": {},
   "source": [
    "# Getting tweets from Twitter<br>\n",
    "- Since there is a limit on the number of tweets that could be pulled per request, I split up this process to get approximately 540 tweets in total\n",
    "- Each request is made with the keyword 'Trump', and specifies the language as english, and each request is limited within a two day span to avoid duplicating tweets"
   ]
  },
  {
   "cell_type": "code",
   "execution_count": 53,
   "metadata": {
    "ExecuteTime": {
     "end_time": "2018-01-17T02:37:34.327180Z",
     "start_time": "2018-01-17T02:37:33.344632Z"
    }
   },
   "outputs": [
    {
     "name": "stdout",
     "output_type": "stream",
     "text": [
      "RT @EnkiVzla: Support and Resistance by Dukascopy, Dukascopy Swiss Forex Bank &amp; Marketplace Registration Open LIVE ACCOUNT Demo Account / B…\n"
     ]
    },
    {
     "data": {
      "text/plain": [
       "144"
      ]
     },
     "execution_count": 53,
     "metadata": {},
     "output_type": "execute_result"
    },
    {
     "data": {
      "text/plain": [
       "1"
      ]
     },
     "execution_count": 53,
     "metadata": {},
     "output_type": "execute_result"
    },
    {
     "name": "stdout",
     "output_type": "stream",
     "text": [
      "Support and Resistance by Dukascopy, Dukascopy Swiss Forex Bank &amp; Marketplace Registration Open LIVE ACCOUNT Demo A… https://t.co/DDtFL9Mu8a\n"
     ]
    },
    {
     "data": {
      "text/plain": [
       "144"
      ]
     },
     "execution_count": 53,
     "metadata": {},
     "output_type": "execute_result"
    },
    {
     "data": {
      "text/plain": [
       "1"
      ]
     },
     "execution_count": 53,
     "metadata": {},
     "output_type": "execute_result"
    },
    {
     "name": "stdout",
     "output_type": "stream",
     "text": [
      "@vadimnewquist @suitisnotblack @RoamingMil Freedom of press to be blithering morons benefits Trump why would he wan… https://t.co/BjtomrOig9\n"
     ]
    },
    {
     "data": {
      "text/plain": [
       "140"
      ]
     },
     "execution_count": 53,
     "metadata": {},
     "output_type": "execute_result"
    },
    {
     "data": {
      "text/plain": [
       "1"
      ]
     },
     "execution_count": 53,
     "metadata": {},
     "output_type": "execute_result"
    },
    {
     "name": "stdout",
     "output_type": "stream",
     "text": [
      "يمانيون -\n",
      "Fire and Fury: Trump says book is ‘fiction’ and author a ‘fraud’\n",
      "https://t.co/n9jBCIwxx3 https://t.co/ZbYaWsZMYu\n"
     ]
    },
    {
     "data": {
      "text/plain": [
       "122"
      ]
     },
     "execution_count": 53,
     "metadata": {},
     "output_type": "execute_result"
    },
    {
     "data": {
      "text/plain": [
       "1"
      ]
     },
     "execution_count": 53,
     "metadata": {},
     "output_type": "execute_result"
    },
    {
     "name": "stdout",
     "output_type": "stream",
     "text": [
      "RT @ratpowe: CRAZY TRUMP GRIPED ABOUT OBAMA'S MENTAL HEALTH\n",
      "Donald J. Trump on Twitter: \"I am starting to think that there is ...\n",
      "https://t…\n"
     ]
    },
    {
     "data": {
      "text/plain": [
       "140"
      ]
     },
     "execution_count": 53,
     "metadata": {},
     "output_type": "execute_result"
    },
    {
     "data": {
      "text/plain": [
       "1"
      ]
     },
     "execution_count": 53,
     "metadata": {},
     "output_type": "execute_result"
    },
    {
     "name": "stdout",
     "output_type": "stream",
     "text": [
      "@letourneau_pat https://t.co/gYylMjFoza\n",
      "Donald J. Trump on Twitter: \"Who wouldn't take Kate's picture and ...\n"
     ]
    },
    {
     "data": {
      "text/plain": [
       "109"
      ]
     },
     "execution_count": 53,
     "metadata": {},
     "output_type": "execute_result"
    },
    {
     "data": {
      "text/plain": [
       "1"
      ]
     },
     "execution_count": 53,
     "metadata": {},
     "output_type": "execute_result"
    },
    {
     "name": "stdout",
     "output_type": "stream",
     "text": [
      "nearly 200,000 Salvadorans, Trump administration, El Salvador https://t.co/y4J4fzIvUf 【FR:69.9t/m】\n"
     ]
    },
    {
     "data": {
      "text/plain": [
       "98"
      ]
     },
     "execution_count": 53,
     "metadata": {},
     "output_type": "execute_result"
    },
    {
     "data": {
      "text/plain": [
       "1"
      ]
     },
     "execution_count": 53,
     "metadata": {},
     "output_type": "execute_result"
    },
    {
     "name": "stdout",
     "output_type": "stream",
     "text": [
      "CRAZY TRUMP GRIPED ABOUT OBAMA'S MENTAL HEALTH\n",
      "Donald J. Trump on Twitter: \"I am starting to think that there is ..… https://t.co/yGIyCuC13l\n"
     ]
    },
    {
     "data": {
      "text/plain": [
       "140"
      ]
     },
     "execution_count": 53,
     "metadata": {},
     "output_type": "execute_result"
    },
    {
     "data": {
      "text/plain": [
       "1"
      ]
     },
     "execution_count": 53,
     "metadata": {},
     "output_type": "execute_result"
    },
    {
     "name": "stdout",
     "output_type": "stream",
     "text": [
      "https://t.co/xObX4ILYkR\n"
     ]
    },
    {
     "data": {
      "text/plain": [
       "23"
      ]
     },
     "execution_count": 53,
     "metadata": {},
     "output_type": "execute_result"
    },
    {
     "data": {
      "text/plain": [
       "1"
      ]
     },
     "execution_count": 53,
     "metadata": {},
     "output_type": "execute_result"
    },
    {
     "name": "stdout",
     "output_type": "stream",
     "text": [
      "RT @MariaESalinas: Bannon apologizes to Trump, but is it too late? \n",
      "https://t.co/A7viKYDaHu https://t.co/OHQcdU7MBV\n"
     ]
    },
    {
     "data": {
      "text/plain": [
       "115"
      ]
     },
     "execution_count": 53,
     "metadata": {},
     "output_type": "execute_result"
    },
    {
     "data": {
      "text/plain": [
       "1"
      ]
     },
     "execution_count": 53,
     "metadata": {},
     "output_type": "execute_result"
    },
    {
     "name": "stdout",
     "output_type": "stream",
     "text": [
      "You don't get to cry about people questioning your mental health. You don't. What goes around, comes around. #trump… https://t.co/lPGWkpxe7a\n"
     ]
    },
    {
     "data": {
      "text/plain": [
       "140"
      ]
     },
     "execution_count": 53,
     "metadata": {},
     "output_type": "execute_result"
    },
    {
     "data": {
      "text/plain": [
       "1"
      ]
     },
     "execution_count": 53,
     "metadata": {},
     "output_type": "execute_result"
    },
    {
     "name": "stdout",
     "output_type": "stream",
     "text": [
      "Bannon apologizes to Trump, but is it too late? \n",
      "https://t.co/A7viKYDaHu https://t.co/OHQcdU7MBV\n"
     ]
    },
    {
     "data": {
      "text/plain": [
       "96"
      ]
     },
     "execution_count": 53,
     "metadata": {},
     "output_type": "execute_result"
    },
    {
     "data": {
      "text/plain": [
       "1"
      ]
     },
     "execution_count": 53,
     "metadata": {},
     "output_type": "execute_result"
    },
    {
     "name": "stdout",
     "output_type": "stream",
     "text": [
      "@likesMixedNuts @mcspocky All that chest-thumping for years about how patriotic they are.\n",
      "While Trump and the GOP w… https://t.co/XnyjpDZDlu\n"
     ]
    },
    {
     "data": {
      "text/plain": [
       "140"
      ]
     },
     "execution_count": 53,
     "metadata": {},
     "output_type": "execute_result"
    },
    {
     "data": {
      "text/plain": [
       "1"
      ]
     },
     "execution_count": 53,
     "metadata": {},
     "output_type": "execute_result"
    },
    {
     "name": "stdout",
     "output_type": "stream",
     "text": [
      "RT @ratpowe: CRAZY TRUMP GRIPED ABOUT OBAMA'S MENTAL HEALTH\n",
      "Donald J. Trump on Twitter: \"I am starting to think that there is ...\n",
      "https://t…\n"
     ]
    },
    {
     "data": {
      "text/plain": [
       "140"
      ]
     },
     "execution_count": 53,
     "metadata": {},
     "output_type": "execute_result"
    },
    {
     "data": {
      "text/plain": [
       "1"
      ]
     },
     "execution_count": 53,
     "metadata": {},
     "output_type": "execute_result"
    },
    {
     "name": "stdout",
     "output_type": "stream",
     "text": [
      "CRAZY TRUMP GRIPED ABOUT OBAMA'S MENTAL HEALTH\n",
      "Donald J. Trump on Twitter: \"I am starting to think that there is ..… https://t.co/51eXKRJNfp\n"
     ]
    },
    {
     "data": {
      "text/plain": [
       "140"
      ]
     },
     "execution_count": 53,
     "metadata": {},
     "output_type": "execute_result"
    },
    {
     "data": {
      "text/plain": [
       "1"
      ]
     },
     "execution_count": 53,
     "metadata": {},
     "output_type": "execute_result"
    },
    {
     "name": "stdout",
     "output_type": "stream",
     "text": [
      "A Pop-Up Book Version of the New \"Fire and Fury\" Trump Exposé Exists, to Streamline Your Reading via… https://t.co/HvjiXLL0Wl\n"
     ]
    },
    {
     "data": {
      "text/plain": [
       "125"
      ]
     },
     "execution_count": 53,
     "metadata": {},
     "output_type": "execute_result"
    },
    {
     "data": {
      "text/plain": [
       "1"
      ]
     },
     "execution_count": 53,
     "metadata": {},
     "output_type": "execute_result"
    },
    {
     "name": "stdout",
     "output_type": "stream",
     "text": [
      "TopWords(1day) 1:Purchase at 2:Trump 3:carpet 4:Velvet 5:speech 6:Golden Globe 7:the red 8:Neck 9:Award… https://t.co/YZun4iZdO0\n"
     ]
    },
    {
     "data": {
      "text/plain": [
       "128"
      ]
     },
     "execution_count": 53,
     "metadata": {},
     "output_type": "execute_result"
    },
    {
     "data": {
      "text/plain": [
       "1"
      ]
     },
     "execution_count": 53,
     "metadata": {},
     "output_type": "execute_result"
    },
    {
     "name": "stdout",
     "output_type": "stream",
     "text": [
      "@KCGirl25 I would think so, but look at how many support Trump working to save Obama's #DACA #Amnesty:\n",
      "\n",
      "#Deplorble… https://t.co/JYx4uHGWyt\n"
     ]
    },
    {
     "data": {
      "text/plain": [
       "139"
      ]
     },
     "execution_count": 53,
     "metadata": {},
     "output_type": "execute_result"
    },
    {
     "data": {
      "text/plain": [
       "1"
      ]
     },
     "execution_count": 53,
     "metadata": {},
     "output_type": "execute_result"
    },
    {
     "name": "stdout",
     "output_type": "stream",
     "text": [
      "FACE PALM &lt;blockquote class=\"twitter-tweet\" data-lang=\"en\"&gt;&lt;p lang=\"en\" dir=\"ltr\"&gt;....to President of the United St… https://t.co/OxJrtBjKkv\n"
     ]
    },
    {
     "data": {
      "text/plain": [
       "152"
      ]
     },
     "execution_count": 53,
     "metadata": {},
     "output_type": "execute_result"
    },
    {
     "data": {
      "text/plain": [
       "1"
      ]
     },
     "execution_count": 53,
     "metadata": {},
     "output_type": "execute_result"
    },
    {
     "name": "stdout",
     "output_type": "stream",
     "text": [
      "Here's the actual live tweet where Trump said this: https://t.co/sJgZ6p3x5J And archived: https://t.co/PHdFUrs0tj https://t.co/3XZHi5MuZh\n"
     ]
    },
    {
     "data": {
      "text/plain": [
       "137"
      ]
     },
     "execution_count": 53,
     "metadata": {},
     "output_type": "execute_result"
    },
    {
     "data": {
      "text/plain": [
       "1"
      ]
     },
     "execution_count": 53,
     "metadata": {},
     "output_type": "execute_result"
    },
    {
     "name": "stdout",
     "output_type": "stream",
     "text": [
      "Number of tweets extracted: 137.\n",
      "\n"
     ]
    }
   ],
   "source": [
    "\n",
    "for tweet in tweepy.Cursor(api.search, q=\"Trump\", lang=\"EN\", since='2018-01-08',until='2018-01-09').items(20):\n",
    "    print (tweet.text)\n",
    "    saveFile = open('tweetRaw.txt', 'a')\n",
    "    saveFile.write(tweet.text)\n",
    "    saveFile.write('\\n')\n",
    "    saveFile.close()\n",
    "\n",
    "print(\"Number of tweets extracted: {}.\\n\".format(len(tweet.text)))"
   ]
  },
  {
   "cell_type": "code",
   "execution_count": 54,
   "metadata": {
    "ExecuteTime": {
     "end_time": "2018-01-17T02:37:46.030051Z",
     "start_time": "2018-01-17T02:37:44.917903Z"
    }
   },
   "outputs": [
    {
     "name": "stdout",
     "output_type": "stream",
     "text": [
      "RT @mikefarb1: And here he is on Twitter, this September, taking credit for Trump's victory! https://t.co/6r3Lqk2xDU https://t.co/s2NDJ9Oqbq\n"
     ]
    },
    {
     "data": {
      "text/plain": [
       "140"
      ]
     },
     "execution_count": 54,
     "metadata": {},
     "output_type": "execute_result"
    },
    {
     "data": {
      "text/plain": [
       "1"
      ]
     },
     "execution_count": 54,
     "metadata": {},
     "output_type": "execute_result"
    },
    {
     "name": "stdout",
     "output_type": "stream",
     "text": [
      "RT @DavidNakamura: Trump said U.S. should keep out immigrants from \"shithole countries\" including Haiti. The star running back of U. of Geo…\n"
     ]
    },
    {
     "data": {
      "text/plain": [
       "140"
      ]
     },
     "execution_count": 54,
     "metadata": {},
     "output_type": "execute_result"
    },
    {
     "data": {
      "text/plain": [
       "1"
      ]
     },
     "execution_count": 54,
     "metadata": {},
     "output_type": "execute_result"
    },
    {
     "name": "stdout",
     "output_type": "stream",
     "text": [
      "RT @MariaESalinas: Mexico will leave NAFTA talks if Trump triggers process to withdraw\n",
      "https://t.co/bYuz1FS0nW https://t.co/JFtZdoW6gN\n"
     ]
    },
    {
     "data": {
      "text/plain": [
       "134"
      ]
     },
     "execution_count": 54,
     "metadata": {},
     "output_type": "execute_result"
    },
    {
     "data": {
      "text/plain": [
       "1"
      ]
     },
     "execution_count": 54,
     "metadata": {},
     "output_type": "execute_result"
    },
    {
     "name": "stdout",
     "output_type": "stream",
     "text": [
      "RT @DavidNakamura: Trump said U.S. should keep out immigrants from \"shithole countries\" including Haiti. The star running back of U. of Geo…\n"
     ]
    },
    {
     "data": {
      "text/plain": [
       "140"
      ]
     },
     "execution_count": 54,
     "metadata": {},
     "output_type": "execute_result"
    },
    {
     "data": {
      "text/plain": [
       "1"
      ]
     },
     "execution_count": 54,
     "metadata": {},
     "output_type": "execute_result"
    },
    {
     "name": "stdout",
     "output_type": "stream",
     "text": [
      "RT @DavidNakamura: Trump said U.S. should keep out immigrants from \"shithole countries\" including Haiti. The star running back of U. of Geo…\n"
     ]
    },
    {
     "data": {
      "text/plain": [
       "140"
      ]
     },
     "execution_count": 54,
     "metadata": {},
     "output_type": "execute_result"
    },
    {
     "data": {
      "text/plain": [
       "1"
      ]
     },
     "execution_count": 54,
     "metadata": {},
     "output_type": "execute_result"
    },
    {
     "name": "stdout",
     "output_type": "stream",
     "text": [
      "RT @AEIfdp: Did It Make a Difference That Donald Trump Voiced Public Support for the Protests in Iran? @abowen17 @AEI @CarnegieEndow https:…\n"
     ]
    },
    {
     "data": {
      "text/plain": [
       "140"
      ]
     },
     "execution_count": 54,
     "metadata": {},
     "output_type": "execute_result"
    },
    {
     "data": {
      "text/plain": [
       "1"
      ]
     },
     "execution_count": 54,
     "metadata": {},
     "output_type": "execute_result"
    },
    {
     "name": "stdout",
     "output_type": "stream",
     "text": [
      "@healthcareicare &lt;blockquote class=\"twitter-tweet\" data-lang=\"en\"&gt;&lt;p lang=\"en\" dir=\"ltr\"&gt;&lt;a href=\"… https://t.co/KVmxYH5w5T\n"
     ]
    },
    {
     "data": {
      "text/plain": [
       "138"
      ]
     },
     "execution_count": 54,
     "metadata": {},
     "output_type": "execute_result"
    },
    {
     "data": {
      "text/plain": [
       "1"
      ]
     },
     "execution_count": 54,
     "metadata": {},
     "output_type": "execute_result"
    },
    {
     "name": "stdout",
     "output_type": "stream",
     "text": [
      "RT @mikefarb1: And here he is on Twitter, this September, taking credit for Trump's victory! https://t.co/6r3Lqk2xDU https://t.co/s2NDJ9Oqbq\n"
     ]
    },
    {
     "data": {
      "text/plain": [
       "140"
      ]
     },
     "execution_count": 54,
     "metadata": {},
     "output_type": "execute_result"
    },
    {
     "data": {
      "text/plain": [
       "1"
      ]
     },
     "execution_count": 54,
     "metadata": {},
     "output_type": "execute_result"
    },
    {
     "name": "stdout",
     "output_type": "stream",
     "text": [
      "RT @mikefarb1: And here he is on Twitter, this September, taking credit for Trump's victory! https://t.co/6r3Lqk2xDU https://t.co/s2NDJ9Oqbq\n"
     ]
    },
    {
     "data": {
      "text/plain": [
       "140"
      ]
     },
     "execution_count": 54,
     "metadata": {},
     "output_type": "execute_result"
    },
    {
     "data": {
      "text/plain": [
       "1"
      ]
     },
     "execution_count": 54,
     "metadata": {},
     "output_type": "execute_result"
    },
    {
     "name": "stdout",
     "output_type": "stream",
     "text": [
      "RT @AEIfdp: Did It Make a Difference That Donald Trump Voiced Public Support for the Protests in Iran? @abowen17 @AEI @CarnegieEndow https:…\n"
     ]
    },
    {
     "data": {
      "text/plain": [
       "140"
      ]
     },
     "execution_count": 54,
     "metadata": {},
     "output_type": "execute_result"
    },
    {
     "data": {
      "text/plain": [
       "1"
      ]
     },
     "execution_count": 54,
     "metadata": {},
     "output_type": "execute_result"
    },
    {
     "name": "stdout",
     "output_type": "stream",
     "text": [
      "RT @mikefarb1: And here he is on Twitter, this September, taking credit for Trump's victory! https://t.co/6r3Lqk2xDU https://t.co/s2NDJ9Oqbq\n"
     ]
    },
    {
     "data": {
      "text/plain": [
       "140"
      ]
     },
     "execution_count": 54,
     "metadata": {},
     "output_type": "execute_result"
    },
    {
     "data": {
      "text/plain": [
       "1"
      ]
     },
     "execution_count": 54,
     "metadata": {},
     "output_type": "execute_result"
    },
    {
     "name": "stdout",
     "output_type": "stream",
     "text": [
      "RT @DavidNakamura: Trump said U.S. should keep out immigrants from \"shithole countries\" including Haiti. The star running back of U. of Geo…\n"
     ]
    },
    {
     "data": {
      "text/plain": [
       "140"
      ]
     },
     "execution_count": 54,
     "metadata": {},
     "output_type": "execute_result"
    },
    {
     "data": {
      "text/plain": [
       "1"
      ]
     },
     "execution_count": 54,
     "metadata": {},
     "output_type": "execute_result"
    },
    {
     "name": "stdout",
     "output_type": "stream",
     "text": [
      "RT @DavidNakamura: Trump said U.S. should keep out immigrants from \"shithole countries\" including Haiti. The star running back of U. of Geo…\n"
     ]
    },
    {
     "data": {
      "text/plain": [
       "140"
      ]
     },
     "execution_count": 54,
     "metadata": {},
     "output_type": "execute_result"
    },
    {
     "data": {
      "text/plain": [
       "1"
      ]
     },
     "execution_count": 54,
     "metadata": {},
     "output_type": "execute_result"
    },
    {
     "name": "stdout",
     "output_type": "stream",
     "text": [
      "RT @DavidNakamura: Trump said U.S. should keep out immigrants from \"shithole countries\" including Haiti. The star running back of U. of Geo…\n"
     ]
    },
    {
     "data": {
      "text/plain": [
       "140"
      ]
     },
     "execution_count": 54,
     "metadata": {},
     "output_type": "execute_result"
    },
    {
     "data": {
      "text/plain": [
       "1"
      ]
     },
     "execution_count": 54,
     "metadata": {},
     "output_type": "execute_result"
    },
    {
     "name": "stdout",
     "output_type": "stream",
     "text": [
      "RT @DavidNakamura: Trump said U.S. should keep out immigrants from \"shithole countries\" including Haiti. The star running back of U. of Geo…\n"
     ]
    },
    {
     "data": {
      "text/plain": [
       "140"
      ]
     },
     "execution_count": 54,
     "metadata": {},
     "output_type": "execute_result"
    },
    {
     "data": {
      "text/plain": [
       "1"
      ]
     },
     "execution_count": 54,
     "metadata": {},
     "output_type": "execute_result"
    },
    {
     "name": "stdout",
     "output_type": "stream",
     "text": [
      "RT @DavidNakamura: Trump said U.S. should keep out immigrants from \"shithole countries\" including Haiti. The star running back of U. of Geo…\n"
     ]
    },
    {
     "data": {
      "text/plain": [
       "140"
      ]
     },
     "execution_count": 54,
     "metadata": {},
     "output_type": "execute_result"
    },
    {
     "data": {
      "text/plain": [
       "1"
      ]
     },
     "execution_count": 54,
     "metadata": {},
     "output_type": "execute_result"
    },
    {
     "name": "stdout",
     "output_type": "stream",
     "text": [
      "RT @DavidNakamura: Trump said U.S. should keep out immigrants from \"shithole countries\" including Haiti. The star running back of U. of Geo…\n"
     ]
    },
    {
     "data": {
      "text/plain": [
       "140"
      ]
     },
     "execution_count": 54,
     "metadata": {},
     "output_type": "execute_result"
    },
    {
     "data": {
      "text/plain": [
       "1"
      ]
     },
     "execution_count": 54,
     "metadata": {},
     "output_type": "execute_result"
    },
    {
     "name": "stdout",
     "output_type": "stream",
     "text": [
      "RT @DavidNakamura: Trump said U.S. should keep out immigrants from \"shithole countries\" including Haiti. The star running back of U. of Geo…\n"
     ]
    },
    {
     "data": {
      "text/plain": [
       "140"
      ]
     },
     "execution_count": 54,
     "metadata": {},
     "output_type": "execute_result"
    },
    {
     "data": {
      "text/plain": [
       "1"
      ]
     },
     "execution_count": 54,
     "metadata": {},
     "output_type": "execute_result"
    },
    {
     "name": "stdout",
     "output_type": "stream",
     "text": [
      "RT @DavidNakamura: Trump said U.S. should keep out immigrants from \"shithole countries\" including Haiti. The star running back of U. of Geo…\n"
     ]
    },
    {
     "data": {
      "text/plain": [
       "140"
      ]
     },
     "execution_count": 54,
     "metadata": {},
     "output_type": "execute_result"
    },
    {
     "data": {
      "text/plain": [
       "1"
      ]
     },
     "execution_count": 54,
     "metadata": {},
     "output_type": "execute_result"
    },
    {
     "name": "stdout",
     "output_type": "stream",
     "text": [
      "RT @DavidNakamura: Trump said U.S. should keep out immigrants from \"shithole countries\" including Haiti. The star running back of U. of Geo…\n"
     ]
    },
    {
     "data": {
      "text/plain": [
       "140"
      ]
     },
     "execution_count": 54,
     "metadata": {},
     "output_type": "execute_result"
    },
    {
     "data": {
      "text/plain": [
       "1"
      ]
     },
     "execution_count": 54,
     "metadata": {},
     "output_type": "execute_result"
    },
    {
     "name": "stdout",
     "output_type": "stream",
     "text": [
      "Number of tweets extracted: 140.\n",
      "\n"
     ]
    }
   ],
   "source": [
    "\n",
    "for tweet1 in tweepy.Cursor(api.search, q=\"Trump\", lang=\"EN\", since='2018-01-11',until='2018-01-12').items(20):\n",
    "    print (tweet1.text)\n",
    "    saveFile = open('tweetRaw1.txt', 'a')\n",
    "    saveFile.write(tweet1.text)\n",
    "    saveFile.write('\\n')\n",
    "    saveFile.close()\n",
    "print(\"Number of tweets extracted: {}.\\n\".format(len(tweet1.text)))"
   ]
  },
  {
   "cell_type": "code",
   "execution_count": 124,
   "metadata": {
    "ExecuteTime": {
     "end_time": "2018-01-16T22:55:15.243173Z",
     "start_time": "2018-01-16T22:55:14.582000Z"
    },
    "collapsed": true
   },
   "outputs": [
    {
     "name": "stdout",
     "output_type": "stream",
     "text": [
      "RT @Alt_Spicerlies: I mean I keep saying to you, SEC filings have TON of publicly available documentation\n",
      "On the DECADES LONG Crime Trump F…\n"
     ]
    },
    {
     "data": {
      "text/plain": [
       "140"
      ]
     },
     "execution_count": 124,
     "metadata": {},
     "output_type": "execute_result"
    },
    {
     "data": {
      "text/plain": [
       "1"
      ]
     },
     "execution_count": 124,
     "metadata": {},
     "output_type": "execute_result"
    },
    {
     "name": "stdout",
     "output_type": "stream",
     "text": [
      "RT @JoeConchaTV: For every media member giddy over the story around Trump, an avid Fox News watcher, not knowing who John Boehner was, here…\n"
     ]
    },
    {
     "data": {
      "text/plain": [
       "140"
      ]
     },
     "execution_count": 124,
     "metadata": {},
     "output_type": "execute_result"
    },
    {
     "data": {
      "text/plain": [
       "1"
      ]
     },
     "execution_count": 124,
     "metadata": {},
     "output_type": "execute_result"
    },
    {
     "name": "stdout",
     "output_type": "stream",
     "text": [
      "RT @Alt_Spicerlies: I mean I keep saying to you, SEC filings have TON of publicly available documentation\n",
      "On the DECADES LONG Crime Trump F…\n"
     ]
    },
    {
     "data": {
      "text/plain": [
       "140"
      ]
     },
     "execution_count": 124,
     "metadata": {},
     "output_type": "execute_result"
    },
    {
     "data": {
      "text/plain": [
       "1"
      ]
     },
     "execution_count": 124,
     "metadata": {},
     "output_type": "execute_result"
    },
    {
     "name": "stdout",
     "output_type": "stream",
     "text": [
      "RT @JoeConchaTV: For every media member giddy over the story around Trump, an avid Fox News watcher, not knowing who John Boehner was, here…\n"
     ]
    },
    {
     "data": {
      "text/plain": [
       "140"
      ]
     },
     "execution_count": 124,
     "metadata": {},
     "output_type": "execute_result"
    },
    {
     "data": {
      "text/plain": [
       "1"
      ]
     },
     "execution_count": 124,
     "metadata": {},
     "output_type": "execute_result"
    },
    {
     "name": "stdout",
     "output_type": "stream",
     "text": [
      "RT @JoeConchaTV: For every media member giddy over the story around Trump, an avid Fox News watcher, not knowing who John Boehner was, here…\n"
     ]
    },
    {
     "data": {
      "text/plain": [
       "140"
      ]
     },
     "execution_count": 124,
     "metadata": {},
     "output_type": "execute_result"
    },
    {
     "data": {
      "text/plain": [
       "1"
      ]
     },
     "execution_count": 124,
     "metadata": {},
     "output_type": "execute_result"
    },
    {
     "name": "stdout",
     "output_type": "stream",
     "text": [
      "RT @Alt_Spicerlies: I mean I keep saying to you, SEC filings have TON of publicly available documentation\n",
      "On the DECADES LONG Crime Trump F…\n"
     ]
    },
    {
     "data": {
      "text/plain": [
       "140"
      ]
     },
     "execution_count": 124,
     "metadata": {},
     "output_type": "execute_result"
    },
    {
     "data": {
      "text/plain": [
       "1"
      ]
     },
     "execution_count": 124,
     "metadata": {},
     "output_type": "execute_result"
    },
    {
     "name": "stdout",
     "output_type": "stream",
     "text": [
      "RT @Alt_Spicerlies: I mean I keep saying to you, SEC filings have TON of publicly available documentation\n",
      "On the DECADES LONG Crime Trump F…\n"
     ]
    },
    {
     "data": {
      "text/plain": [
       "140"
      ]
     },
     "execution_count": 124,
     "metadata": {},
     "output_type": "execute_result"
    },
    {
     "data": {
      "text/plain": [
       "1"
      ]
     },
     "execution_count": 124,
     "metadata": {},
     "output_type": "execute_result"
    },
    {
     "name": "stdout",
     "output_type": "stream",
     "text": [
      "RT @Alt_Spicerlies: I mean I keep saying to you, SEC filings have TON of publicly available documentation\n",
      "On the DECADES LONG Crime Trump F…\n"
     ]
    },
    {
     "data": {
      "text/plain": [
       "140"
      ]
     },
     "execution_count": 124,
     "metadata": {},
     "output_type": "execute_result"
    },
    {
     "data": {
      "text/plain": [
       "1"
      ]
     },
     "execution_count": 124,
     "metadata": {},
     "output_type": "execute_result"
    },
    {
     "name": "stdout",
     "output_type": "stream",
     "text": [
      "RT @Alt_Spicerlies: I mean I keep saying to you, SEC filings have TON of publicly available documentation\n",
      "On the DECADES LONG Crime Trump F…\n"
     ]
    },
    {
     "data": {
      "text/plain": [
       "140"
      ]
     },
     "execution_count": 124,
     "metadata": {},
     "output_type": "execute_result"
    },
    {
     "data": {
      "text/plain": [
       "1"
      ]
     },
     "execution_count": 124,
     "metadata": {},
     "output_type": "execute_result"
    },
    {
     "name": "stdout",
     "output_type": "stream",
     "text": [
      "RT @Alt_Spicerlies: I mean I keep saying to you, SEC filings have TON of publicly available documentation\n",
      "On the DECADES LONG Crime Trump F…\n"
     ]
    },
    {
     "data": {
      "text/plain": [
       "140"
      ]
     },
     "execution_count": 124,
     "metadata": {},
     "output_type": "execute_result"
    },
    {
     "data": {
      "text/plain": [
       "1"
      ]
     },
     "execution_count": 124,
     "metadata": {},
     "output_type": "execute_result"
    },
    {
     "name": "stdout",
     "output_type": "stream",
     "text": [
      "@largebill68 @PricelinePwrUsr @realDonaldTrump He literally is talking about what Trump (the guy you support) said… https://t.co/Fhg5FzCf0s\n"
     ]
    },
    {
     "data": {
      "text/plain": [
       "139"
      ]
     },
     "execution_count": 124,
     "metadata": {},
     "output_type": "execute_result"
    },
    {
     "data": {
      "text/plain": [
       "1"
      ]
     },
     "execution_count": 124,
     "metadata": {},
     "output_type": "execute_result"
    },
    {
     "name": "stdout",
     "output_type": "stream",
     "text": [
      "RT @Alt_Spicerlies: I mean I keep saying to you, SEC filings have TON of publicly available documentation\n",
      "On the DECADES LONG Crime Trump F…\n"
     ]
    },
    {
     "data": {
      "text/plain": [
       "140"
      ]
     },
     "execution_count": 124,
     "metadata": {},
     "output_type": "execute_result"
    },
    {
     "data": {
      "text/plain": [
       "1"
      ]
     },
     "execution_count": 124,
     "metadata": {},
     "output_type": "execute_result"
    },
    {
     "name": "stdout",
     "output_type": "stream",
     "text": [
      "TopWords(1day) 1:Purchase 2:Trump 3:While Supplies 4:Velvet 5:President 6:FLASH 7:Neck 8:Two Piece 9:Long Sleeve… https://t.co/MvpzoT0mkO\n"
     ]
    },
    {
     "data": {
      "text/plain": [
       "137"
      ]
     },
     "execution_count": 124,
     "metadata": {},
     "output_type": "execute_result"
    },
    {
     "data": {
      "text/plain": [
       "1"
      ]
     },
     "execution_count": 124,
     "metadata": {},
     "output_type": "execute_result"
    },
    {
     "name": "stdout",
     "output_type": "stream",
     "text": [
      "@MMFlint Sorry Mike, #Trump's been doing the \"Sloppy\" slur (#'s 9, 11, &amp; 15 https://t.co/4HOWG6z4C2) on Twitter sin… https://t.co/1qMo2jHfJl\n"
     ]
    },
    {
     "data": {
      "text/plain": [
       "144"
      ]
     },
     "execution_count": 124,
     "metadata": {},
     "output_type": "execute_result"
    },
    {
     "data": {
      "text/plain": [
       "1"
      ]
     },
     "execution_count": 124,
     "metadata": {},
     "output_type": "execute_result"
    },
    {
     "name": "stdout",
     "output_type": "stream",
     "text": [
      "RT @Alt_Spicerlies: I mean I keep saying to you, SEC filings have TON of publicly available documentation\n",
      "On the DECADES LONG Crime Trump F…\n"
     ]
    },
    {
     "data": {
      "text/plain": [
       "140"
      ]
     },
     "execution_count": 124,
     "metadata": {},
     "output_type": "execute_result"
    },
    {
     "data": {
      "text/plain": [
       "1"
      ]
     },
     "execution_count": 124,
     "metadata": {},
     "output_type": "execute_result"
    },
    {
     "name": "stdout",
     "output_type": "stream",
     "text": [
      "Number of tweets extracted: 140.\n",
      "\n"
     ]
    }
   ],
   "source": [
    "\n",
    "for tweet2 in tweepy.Cursor(api.search, q=\"Trump\", lang=\"EN\", since='2018-01-06',until='2018-01-07').items(20):\n",
    "    print (tweet2.text)\n",
    "    saveFile = open('tweetRaw2.txt', 'a')\n",
    "    saveFile.write(tweet2.text)\n",
    "    saveFile.write('\\n')\n",
    "    saveFile.close()\n",
    "print(\"Number of tweets extracted: {}.\\n\".format(len(tweet2.text)))"
   ]
  },
  {
   "cell_type": "code",
   "execution_count": 125,
   "metadata": {
    "ExecuteTime": {
     "end_time": "2018-01-16T22:55:59.792644Z",
     "start_time": "2018-01-16T22:55:58.828800Z"
    },
    "collapsed": true
   },
   "outputs": [
    {
     "name": "stdout",
     "output_type": "stream",
     "text": [
      "@RobertLRoach @doretheatp1 @JoshWilsonOrl @Dan55645 @seanhannity Trump's motive in the Russia scandal is to keep th… https://t.co/DiAMvL0Yqn\n"
     ]
    },
    {
     "data": {
      "text/plain": [
       "140"
      ]
     },
     "execution_count": 125,
     "metadata": {},
     "output_type": "execute_result"
    },
    {
     "data": {
      "text/plain": [
       "1"
      ]
     },
     "execution_count": 125,
     "metadata": {},
     "output_type": "execute_result"
    },
    {
     "name": "stdout",
     "output_type": "stream",
     "text": [
      "@theBRUSHoff @JacobAWohl @realDonaldTrump Jacob is a con just like Trump, just google his name to see for yourself… https://t.co/UfjAlV2OWa\n"
     ]
    },
    {
     "data": {
      "text/plain": [
       "139"
      ]
     },
     "execution_count": 125,
     "metadata": {},
     "output_type": "execute_result"
    },
    {
     "data": {
      "text/plain": [
       "1"
      ]
     },
     "execution_count": 125,
     "metadata": {},
     "output_type": "execute_result"
    },
    {
     "name": "stdout",
     "output_type": "stream",
     "text": [
      "RT @berrier451: @lea_joli Monsieur Jack Lang en tant que président de l'institut du monde arabe ferait mieux de lâcher TRUMP et de s'attaqu…\n"
     ]
    },
    {
     "data": {
      "text/plain": [
       "140"
      ]
     },
     "execution_count": 125,
     "metadata": {},
     "output_type": "execute_result"
    },
    {
     "data": {
      "text/plain": [
       "1"
      ]
     },
     "execution_count": 125,
     "metadata": {},
     "output_type": "execute_result"
    },
    {
     "name": "stdout",
     "output_type": "stream",
     "text": [
      "RT @berrier451: @lea_joli Monsieur Jack Lang en tant que président de l'institut du monde arabe ferait mieux de lâcher TRUMP et de s'attaqu…\n"
     ]
    },
    {
     "data": {
      "text/plain": [
       "140"
      ]
     },
     "execution_count": 125,
     "metadata": {},
     "output_type": "execute_result"
    },
    {
     "data": {
      "text/plain": [
       "1"
      ]
     },
     "execution_count": 125,
     "metadata": {},
     "output_type": "execute_result"
    },
    {
     "name": "stdout",
     "output_type": "stream",
     "text": [
      "RT @MariaESalinas: Trump says he can use NAFTA money to make Mexico pay for the wall...\n",
      "https://t.co/VppEkvylAl https://t.co/9zejTCJVCO\n"
     ]
    },
    {
     "data": {
      "text/plain": [
       "135"
      ]
     },
     "execution_count": 125,
     "metadata": {},
     "output_type": "execute_result"
    },
    {
     "data": {
      "text/plain": [
       "1"
      ]
     },
     "execution_count": 125,
     "metadata": {},
     "output_type": "execute_result"
    },
    {
     "name": "stdout",
     "output_type": "stream",
     "text": [
      "RT @berrier451: @lea_joli Monsieur Jack Lang en tant que président de l'institut du monde arabe ferait mieux de lâcher TRUMP et de s'attaqu…\n"
     ]
    },
    {
     "data": {
      "text/plain": [
       "140"
      ]
     },
     "execution_count": 125,
     "metadata": {},
     "output_type": "execute_result"
    },
    {
     "data": {
      "text/plain": [
       "1"
      ]
     },
     "execution_count": 125,
     "metadata": {},
     "output_type": "execute_result"
    },
    {
     "name": "stdout",
     "output_type": "stream",
     "text": [
      "RT @mikefarb1: And here he is on Twitter, this September, taking credit for Trump's victory! https://t.co/6r3Lqk2xDU https://t.co/s2NDJ9Oqbq\n"
     ]
    },
    {
     "data": {
      "text/plain": [
       "140"
      ]
     },
     "execution_count": 125,
     "metadata": {},
     "output_type": "execute_result"
    },
    {
     "data": {
      "text/plain": [
       "1"
      ]
     },
     "execution_count": 125,
     "metadata": {},
     "output_type": "execute_result"
    },
    {
     "name": "stdout",
     "output_type": "stream",
     "text": [
      "RT @mikefarb1: And here he is on Twitter, this September, taking credit for Trump's victory! https://t.co/6r3Lqk2xDU https://t.co/s2NDJ9Oqbq\n"
     ]
    },
    {
     "data": {
      "text/plain": [
       "140"
      ]
     },
     "execution_count": 125,
     "metadata": {},
     "output_type": "execute_result"
    },
    {
     "data": {
      "text/plain": [
       "1"
      ]
     },
     "execution_count": 125,
     "metadata": {},
     "output_type": "execute_result"
    },
    {
     "name": "stdout",
     "output_type": "stream",
     "text": [
      "EU's @FedericaMog : It is positive that yesterday President Donald Trump confirmed that the United States will resp… https://t.co/iQFRSC2zZd\n"
     ]
    },
    {
     "data": {
      "text/plain": [
       "140"
      ]
     },
     "execution_count": 125,
     "metadata": {},
     "output_type": "execute_result"
    },
    {
     "data": {
      "text/plain": [
       "1"
      ]
     },
     "execution_count": 125,
     "metadata": {},
     "output_type": "execute_result"
    },
    {
     "name": "stdout",
     "output_type": "stream",
     "text": [
      "RT @berrier451: @lea_joli Monsieur Jack Lang en tant que président de l'institut du monde arabe ferait mieux de lâcher TRUMP et de s'attaqu…\n"
     ]
    },
    {
     "data": {
      "text/plain": [
       "140"
      ]
     },
     "execution_count": 125,
     "metadata": {},
     "output_type": "execute_result"
    },
    {
     "data": {
      "text/plain": [
       "1"
      ]
     },
     "execution_count": 125,
     "metadata": {},
     "output_type": "execute_result"
    },
    {
     "name": "stdout",
     "output_type": "stream",
     "text": [
      "RT @berrier451: @lea_joli Monsieur Jack Lang en tant que président de l'institut du monde arabe ferait mieux de lâcher TRUMP et de s'attaqu…\n"
     ]
    },
    {
     "data": {
      "text/plain": [
       "140"
      ]
     },
     "execution_count": 125,
     "metadata": {},
     "output_type": "execute_result"
    },
    {
     "data": {
      "text/plain": [
       "1"
      ]
     },
     "execution_count": 125,
     "metadata": {},
     "output_type": "execute_result"
    },
    {
     "name": "stdout",
     "output_type": "stream",
     "text": [
      "TopWords(1day) 1:Purchase at 2:Trump 3:President 4:Get them 5:racist 6:many items 7:Newest 8:New Years… https://t.co/fs9y84urbD\n"
     ]
    },
    {
     "data": {
      "text/plain": [
       "127"
      ]
     },
     "execution_count": 125,
     "metadata": {},
     "output_type": "execute_result"
    },
    {
     "data": {
      "text/plain": [
       "1"
      ]
     },
     "execution_count": 125,
     "metadata": {},
     "output_type": "execute_result"
    },
    {
     "name": "stdout",
     "output_type": "stream",
     "text": [
      "For a second I thought we came a little too close to another one of those \"Trump predicts himself\" things:\n",
      "https://t.co/5VJIIhhBFA\n"
     ]
    },
    {
     "data": {
      "text/plain": [
       "130"
      ]
     },
     "execution_count": 125,
     "metadata": {},
     "output_type": "execute_result"
    },
    {
     "data": {
      "text/plain": [
       "1"
      ]
     },
     "execution_count": 125,
     "metadata": {},
     "output_type": "execute_result"
    },
    {
     "name": "stdout",
     "output_type": "stream",
     "text": [
      "RT @mikefarb1: And here he is on Twitter, this September, taking credit for Trump's victory! https://t.co/6r3Lqk2xDU https://t.co/s2NDJ9Oqbq\n"
     ]
    },
    {
     "data": {
      "text/plain": [
       "140"
      ]
     },
     "execution_count": 125,
     "metadata": {},
     "output_type": "execute_result"
    },
    {
     "data": {
      "text/plain": [
       "1"
      ]
     },
     "execution_count": 125,
     "metadata": {},
     "output_type": "execute_result"
    },
    {
     "name": "stdout",
     "output_type": "stream",
     "text": [
      "RT @berrier451: @lea_joli Monsieur Jack Lang en tant que président de l'institut du monde arabe ferait mieux de lâcher TRUMP et de s'attaqu…\n"
     ]
    },
    {
     "data": {
      "text/plain": [
       "140"
      ]
     },
     "execution_count": 125,
     "metadata": {},
     "output_type": "execute_result"
    },
    {
     "data": {
      "text/plain": [
       "1"
      ]
     },
     "execution_count": 125,
     "metadata": {},
     "output_type": "execute_result"
    },
    {
     "name": "stdout",
     "output_type": "stream",
     "text": [
      "@lea_joli Monsieur Jack Lang en tant que président de l'institut du monde arabe ferait mieux de lâcher TRUMP et de… https://t.co/gk6rnwLo3x\n"
     ]
    },
    {
     "data": {
      "text/plain": [
       "139"
      ]
     },
     "execution_count": 125,
     "metadata": {},
     "output_type": "execute_result"
    },
    {
     "data": {
      "text/plain": [
       "1"
      ]
     },
     "execution_count": 125,
     "metadata": {},
     "output_type": "execute_result"
    },
    {
     "name": "stdout",
     "output_type": "stream",
     "text": [
      "RT @TheBeetrootSA: @justicemalala @hm Like EFF Justice needs JZ to remain relevant? \n",
      "There are always more effective options than violence.…\n"
     ]
    },
    {
     "data": {
      "text/plain": [
       "140"
      ]
     },
     "execution_count": 125,
     "metadata": {},
     "output_type": "execute_result"
    },
    {
     "data": {
      "text/plain": [
       "1"
      ]
     },
     "execution_count": 125,
     "metadata": {},
     "output_type": "execute_result"
    },
    {
     "name": "stdout",
     "output_type": "stream",
     "text": [
      "Ass Hole London Mayor Sadiq Khan\n",
      "Przt Trump U Have Genuine Loving Supporters\n",
      "When ever U Decided 2 Visit OUR Beauti… https://t.co/beSZgqZlz3\n"
     ]
    },
    {
     "data": {
      "text/plain": [
       "140"
      ]
     },
     "execution_count": 125,
     "metadata": {},
     "output_type": "execute_result"
    },
    {
     "data": {
      "text/plain": [
       "1"
      ]
     },
     "execution_count": 125,
     "metadata": {},
     "output_type": "execute_result"
    },
    {
     "name": "stdout",
     "output_type": "stream",
     "text": [
      "RT @NiftyDeals: Trump Fan MAGA Collection collection via @Zazzle https://t.co/LrI8cRRfmJ … via @zazzle   #MAGA #TrumpTrain #Trump2020 #zazz…\n"
     ]
    },
    {
     "data": {
      "text/plain": [
       "140"
      ]
     },
     "execution_count": 125,
     "metadata": {},
     "output_type": "execute_result"
    },
    {
     "data": {
      "text/plain": [
       "1"
      ]
     },
     "execution_count": 125,
     "metadata": {},
     "output_type": "execute_result"
    },
    {
     "name": "stdout",
     "output_type": "stream",
     "text": [
      "RT @mikefarb1: And here he is on Twitter, this September, taking credit for Trump's victory! https://t.co/6r3Lqk2xDU https://t.co/s2NDJ9Oqbq\n"
     ]
    },
    {
     "data": {
      "text/plain": [
       "140"
      ]
     },
     "execution_count": 125,
     "metadata": {},
     "output_type": "execute_result"
    },
    {
     "data": {
      "text/plain": [
       "1"
      ]
     },
     "execution_count": 125,
     "metadata": {},
     "output_type": "execute_result"
    },
    {
     "name": "stdout",
     "output_type": "stream",
     "text": [
      "Number of tweets extracted: 140.\n",
      "\n"
     ]
    }
   ],
   "source": [
    "\n",
    "for tweet3 in tweepy.Cursor(api.search, q=\"Trump\", lang=\"EN\", since='2018-01-13',until='2018-01-14').items(20):\n",
    "    print (tweet3.text)\n",
    "    saveFile = open('tweetRaw3.txt', 'a')\n",
    "    saveFile.write(tweet3.text)\n",
    "    saveFile.write('\\n')\n",
    "    saveFile.close()\n",
    "print(\"Number of tweets extracted: {}.\\n\".format(len(tweet3.text)))"
   ]
  },
  {
   "cell_type": "markdown",
   "metadata": {},
   "source": [
    "# Combine all txt files into a single file:"
   ]
  },
  {
   "cell_type": "code",
   "execution_count": 126,
   "metadata": {
    "ExecuteTime": {
     "end_time": "2018-01-16T23:04:59.514561Z",
     "start_time": "2018-01-16T23:04:59.456996Z"
    },
    "scrolled": true
   },
   "outputs": [
    {
     "data": {
      "text/plain": [
       "41248"
      ]
     },
     "execution_count": 126,
     "metadata": {},
     "output_type": "execute_result"
    },
    {
     "data": {
      "text/plain": [
       "22572"
      ]
     },
     "execution_count": 126,
     "metadata": {},
     "output_type": "execute_result"
    },
    {
     "data": {
      "text/plain": [
       "4230"
      ]
     },
     "execution_count": 126,
     "metadata": {},
     "output_type": "execute_result"
    },
    {
     "data": {
      "text/plain": [
       "5580"
      ]
     },
     "execution_count": 126,
     "metadata": {},
     "output_type": "execute_result"
    }
   ],
   "source": [
    "filenames = ['tweetRaw.txt', 'tweetRaw1.txt', 'tweetRaw2.txt', 'tweetRaw3.txt']\n",
    "with open('tweetsCombined.txt', 'w') as outfile:\n",
    "    for fname in filenames:\n",
    "        with open(fname) as infile:\n",
    "            outfile.write(infile.read())"
   ]
  },
  {
   "cell_type": "markdown",
   "metadata": {},
   "source": [
    "# Import word lists, store as string and convert to a list<br>\n",
    "- Here I am importing lists of pre-loaded words found on the web<br>\n",
    "- Total of 3 lists: stop words, positive words, negative words"
   ]
  },
  {
   "cell_type": "code",
   "execution_count": 22,
   "metadata": {
    "ExecuteTime": {
     "end_time": "2018-01-17T01:12:49.028036Z",
     "start_time": "2018-01-17T01:12:48.982483Z"
    }
   },
   "outputs": [],
   "source": [
    "with open('stopWords.txt') as stopWordsFile:\n",
    "    stopWords =\"\".join(line.replace('\\n',' ') for line in stopWordsFile)\n",
    "\n",
    "with open('pWords.txt') as pWordsFile:\n",
    "    pWords =\"\".join(line.replace('\\n',' ') for line in pWordsFile)\n",
    "    \n",
    "with open('nWords.txt') as nWordsFile:\n",
    "    nWords =\"\".join(line.replace('\\n',' ') for line in nWordsFile)\n"
   ]
  },
  {
   "cell_type": "code",
   "execution_count": 23,
   "metadata": {
    "ExecuteTime": {
     "end_time": "2018-01-17T01:12:50.686707Z",
     "start_time": "2018-01-17T01:12:50.676555Z"
    }
   },
   "outputs": [],
   "source": [
    "stopWordsFile.close()\n",
    "pWordsFile.close()\n",
    "nWordsFile.close()"
   ]
  },
  {
   "cell_type": "code",
   "execution_count": 28,
   "metadata": {
    "ExecuteTime": {
     "end_time": "2018-01-17T01:15:07.585677Z",
     "start_time": "2018-01-17T01:15:07.576808Z"
    }
   },
   "outputs": [],
   "source": [
    "stopWordsList = list(stopWords.split(' '))\n",
    "positiveList = list(pWords.split(' '))\n",
    "negativeList = list(nWords.split(' '))"
   ]
  },
  {
   "cell_type": "markdown",
   "metadata": {},
   "source": [
    "# Data Clean-up: <br>\n",
    "- Import combined tweets textfile; each line of tweets are joined and changed to lower case.<br> \n",
    "- Clean up the tweets data; remove any url, re-tweet symbols, usernames, etc."
   ]
  },
  {
   "cell_type": "code",
   "execution_count": 37,
   "metadata": {
    "ExecuteTime": {
     "end_time": "2018-01-17T01:22:00.569526Z",
     "start_time": "2018-01-17T01:22:00.504866Z"
    }
   },
   "outputs": [
    {
     "name": "stdout",
     "output_type": "stream",
     "text": [
      "[\"bingo!they're\", 'either', 'trying', 'to', 'cash', 'out', 'and', 'use', 'whatever', 'position', 'of', 'power', 'they', 'have', 'left…', \"trump's\", 'sh*thole', 'comment', 'was', 'wrong', 'in', 'many', 'ways,', 'but', 'the', 'leftist', 'outrage', 'is', 'pure', 'hypocrisy', 'in', 'some', 'cas…', ':', 'a', 'few', 'days', 'ago,', 'many', 'people', 'i', 'like', '&amp;', 'normally', 'agree', 'with', 'urged', 'trump', 'to', 'speak', 'out', 'on', 'behalf', 'of', 'iranian', 'protesters.', 'this', 'shit…rt', ':', 'trump', 'said', 'u.s.', 'should', 'keep', 'out', 'immigrants', 'from', '\"shithole', 'countries\"', 'including', 'haiti.', 'the', 'star', 'running', 'back', 'of', 'u.', 'of', 'geo…rt', ':', 'and', 'here', 'he', 'is', 'on', 'twitter,', 'this', 'september,', 'taking', 'credit', 'for', \"trump's\", 'victory!', ':', 'trump', 'cancels', 'trip', 'to', 'london', 'citing', 'bad', 'real', 'estate', 'deal', 'made', 'by', 'obama', 'that', 'was', 'really', 'made', 'by', 'bush.', 'maybe', 'he’s', 'just', 'sca…', \"he's\", 'a', 'coward...', 'pure', 'and', 'simple.', 'he', \"didn't\", 'say', 'jack', 'sh*t', 'to', 'trump...', 'just', 'bent', 'over', 'and', 'too…', ':trump', 's', ':them', 'at', ':newest', ':items', ':facebook', 'resident', ':items', 'very', 'nald', ':new', 'years…', ':', 'a', 'few', 'days', 'ago,', 'many', 'people', 'i', 'like', '&amp;', 'normally', 'agree', 'with', 'urged', 'trump', 'to', 'speak', 'out', 'on', 'behalf', 'of', 'iranian', 'protesters.', 'this', 'shit…rt', ':', 'a', 'few', 'days', 'ago,', 'many', 'people', 'i', 'like', '&amp;', 'normally', 'agree', 'with', 'urged', 'trump', 'to', 'speak', 'out', 'on', 'behalf', 'of', 'iranian', 'protesters.', 'this', 'shit…rt', ':', 'trump', 'cancels', 'trip', 'to', 'london', 'citing', 'bad', 'real', 'estate', 'deal', 'made', 'by', 'obama', 'that', 'was', 'really', 'made', 'by', 'bush.', 'maybe', 'he’s', 'just', 'sca…rt', ':', 'a', 'few', 'days', 'ago,', 'many', 'people', 'i', 'like', '&amp;', 'normally', 'agree', 'with', 'urged', 'trump', 'to', 'speak', 'out', 'on', 'behalf', 'of', 'iranian', 'protesters.', 'this', 'shit…', 'not', 'everyone', 'supports', \"trump's\", 'kissing', 'of', 'liberal', 'a$$', 'as', 'you', 'do.', '…', ':', 'a', 'few', 'days', 'ago,', 'many', 'people', 'i', 'like', '&amp;', 'normally', 'agree', 'with', 'urged', 'trump', 'to', 'speak', 'out', 'on', 'behalf', 'of', 'iranian', 'protesters.', 'this', 'shit…rt', ':', 'a', 'few', 'days', 'ago,', 'many', 'people', 'i', 'like', '&amp;', 'normally', 'agree', 'with', 'urged', 'trump', 'to', 'speak', 'out', 'on', 'behalf', 'of', 'iranian', 'protesters.', 'this', 'shit…rt', ':', 'a', 'few', 'days', 'ago,', 'many', 'people', 'i', 'like', '&amp;', 'normally', 'agree', 'with', 'urged', 'trump', 'to', 'speak', 'out', 'on', 'behalf', 'of', 'iranian', 'protesters.', 'this', 'shit…rt', ':', 'trump', 'says', 'he', 'can', 'use', 'nafta', 'money', 'to', 'make', 'mexico', 'pay', 'for', 'the', 'wall...', ':', 'and', 'here', 'he', 'is', 'on', 'twitter,', 'this', 'september,', 'taking', 'credit', 'for', \"trump's\", 'victory!', ':', 'a', 'few', 'days', 'ago,', 'many', 'people', 'i', 'like', '&amp;', 'normally', 'agree', 'with', 'urged', 'trump', 'to', 'speak', 'out', 'on', 'behalf', 'of', 'iranian', 'protesters.', 'this', 'shit…rt', ':', ')', 'now,', 'trump', 'and', 'the', 'usa', 'is', 'not', 'in', 'the', 'weaker', 'position,', 'but', 'even', 'in', 'a', 'stronger', 'position', 'sapping', 'the', 'weaker', 'party', 'of', 'sup…rt', ':', 'a', 'few', 'days', 'ago,', 'many', 'people', 'i', 'like', '&amp;', 'normally', 'agree', 'with', 'urged', 'trump', 'to', 'speak', 'out', 'on', 'behalf', 'of', 'iranian', 'protesters.', 'this', 'shit…rt', ':', 'a', 'few', 'days', 'ago,', 'many', 'people', 'i', 'like', '&amp;', 'normally', 'agree', 'with', 'urged', 'trump', 'to', 'speak', 'out', 'on', 'behalf', 'of', 'iranian', 'protesters.', 'this', 'shit…rt', ':', ')', 'now,', 'trump', 'and', 'the', 'usa', 'is', 'not', 'in', 'the', 'weaker', 'position,', 'but', 'even', 'in', 'a', 'stronger', 'position', 'sapping', 'the', 'weaker', 'party', 'of', 'sup…7)', 'now,', 'trump', 'and', 'the', 'usa', 'is', 'not', 'in', 'the', 'weaker', 'position,', 'but', 'even', 'in', 'a', 'stronger', 'position', 'sapping', 'the', 'weaker', 'party', 'o…', ':', 'trump', 'cancels', 'trip', 'to', 'london', 'citing', 'bad', 'real', 'estate', 'deal', 'made', 'by', 'obama', 'that', 'was', 'really', 'made', 'by', 'bush.', 'maybe', 'he’s', 'just', 'sca…rt', ':', 'and', 'here', 'he', 'is', 'on', 'twitter,', 'this', 'september,', 'taking', 'credit', 'for', \"trump's\", 'victory!', ':', 'trump', 'cancels', 'trip', 'to', 'london', 'citing', 'bad', 'real', 'estate', 'deal', 'made', 'by', 'obama', 'that', 'was', 'really', 'made', 'by', 'bush.', 'maybe', 'he’s', 'just', 'sca…rt', ':', 'trump', 'cancels', 'trip', 'to', 'london', 'citing', 'bad', 'real', 'estate', 'deal', 'made', 'by', 'obama', 'that', 'was', 'really', 'made', 'by', 'bush.', 'maybe', 'he’s', 'just', 'sca…rt', ':', 'a', 'few', 'days', 'ago,', 'many', 'people', 'i', 'like', '&amp;', 'normally', 'agree', 'with', 'urged', 'trump', 'to', 'speak', 'out', 'on', 'behalf', 'of', 'iranian', 'protesters.', 'this', 'shit…rt', ':', 'trump', 'says', 'he', 'can', 'use', 'nafta', 'money', 'to', 'make', 'mexico', 'pay', 'for', 'the', 'wall...', ':', 'a', 'few', 'days', 'ago,', 'many', 'people', 'i', 'like', '&amp;', 'normally', 'agree', 'with', 'urged', 'trump', 'to', 'speak', 'out', 'on', 'behalf', 'of', 'iranian', 'protesters.', 'this', 'shit…rt', ':', 'and', 'here', 'he', 'is', 'on', 'twitter,', 'this', 'september,', 'taking', 'credit', 'for', \"trump's\", 'victory!', ':', 'trump', 'says', 'he', 'can', 'use', 'nafta', 'money', 'to', 'make', 'mexico', 'pay', 'for', 'the', 'wall...', ':', 'trump', 'cancels', 'trip', 'to', 'london', 'citing', 'bad', 'real', 'estate', 'deal', 'made', 'by', 'obama', 'that', 'was', 'really', 'made', 'by', 'bush.', 'maybe', 'he’s', 'just', 'sca…rt', ':', 'trump', 'cancels', 'trip', 'to', 'london', 'citing', 'bad', 'real', 'estate', 'deal', 'made', 'by', 'obama', 'that', 'was', 'really', 'made', 'by', 'bush.', 'maybe', 'he’s', 'just', 'sca…rt', ':', 'a', 'few', 'days', 'ago,', 'many', 'people', 'i', 'like', '&amp;', 'normally', 'agree', 'with', 'urged', 'trump', 'to', 'speak', 'out', 'on', 'behalf', 'of', 'iranian', 'protesters.', 'this', 'shit…rt', ':', 'a', 'few', 'days', 'ago,', 'many', 'people', 'i', 'like', '&amp;', 'normally', 'agree', 'with', 'urged', 'trump', 'to', 'speak', 'out', 'on', 'behalf', 'of', 'iranian', 'protesters.', 'this', 'shit…trump', 'says', 'he', 'can', 'use', 'nafta', 'money', 'to', 'make', 'mexico', 'pay', 'for', 'the', 'wall...', ':', 'a', 'few', 'days', 'ago,', 'many', 'people', 'i', 'like', '&amp;', 'normally', 'agree', 'with', 'urged', 'trump', 'to', 'speak', 'out', 'on', 'behalf', 'of', 'iranian', 'protesters.', 'this', 'shit…rt', ':', 'trump', 'cancels', 'trip', 'to', 'london', 'citing', 'bad', 'real', 'estate', 'deal', 'made', 'by', 'obama', 'that', 'was', 'really', 'made', 'by', 'bush.', 'maybe', 'he’s', 'just', 'sca…rt', ':', 'a', 'few', 'days', 'ago,', 'many', 'people', 'i', 'like', '&amp;', 'normally', 'agree', 'with', 'urged', 'trump', 'to', 'speak', 'out', 'on', 'behalf', 'of', 'iranian', 'protesters.', 'this', 'shit…rt', ':', 'trump', 'cancels', 'trip', 'to', 'london', 'citing', 'bad', 'real', 'estate', 'deal', 'made', 'by', 'obama', 'that', 'was', 'really', 'made', 'by', 'bush.', 'maybe', 'he’s', 'just', 'sca…rt', ':', 'a', 'few', 'days', 'ago,', 'many', 'people', 'i', 'like', '&amp;', 'normally', 'agree', 'with', 'urged', 'trump', 'to', 'speak', 'out', 'on', 'behalf', 'of', 'iranian', 'protesters.', 'this', 'shit…rt', ':', 'and', 'here', 'he', 'is', 'on', 'twitter,', 'this', 'september,', 'taking', 'credit', 'for', \"trump's\", 'victory!', ':', 'trump', 'cancels', 'trip', 'to', 'london', 'citing', 'bad', 'real', 'estate', 'deal', 'made', 'by', 'obama', 'that', 'was', 'really', 'made', 'by', 'bush.', 'maybe', 'he’s', 'just', 'sca…rt', ':', 'trump', 'cancels', 'trip', 'to', 'london', 'citing', 'bad', 'real', 'estate', 'deal', 'made', 'by', 'obama', 'that', 'was', 'really', 'made', 'by', 'bush.', 'maybe', 'he’s', 'just', 'sca…rt', ':', 'a', 'few', 'days', 'ago,', 'many', 'people', 'i', 'like', '&amp;', 'normally', 'agree', 'with', 'urged', 'trump', 'to', 'speak', 'out', 'on', 'behalf', 'of', 'iranian', 'protesters.', 'this', 'shit…rt', ':', 'a', 'few', 'days', 'ago,', 'many', 'people', 'i', 'like', '&amp;', 'normally', 'agree', 'with', 'urged', 'trump', 'to', 'speak', 'out', 'on', 'behalf', 'of', 'iranian', 'protesters.', 'this', 'shit…rt', ':', 'trump', 'cancels', 'trip', 'to', 'london', 'citing', 'bad', 'real', 'estate', 'deal', 'made', 'by', 'obama', 'that', 'was', 'really', 'made', 'by', 'bush.', 'maybe', 'he’s', 'just', 'sca…rt', ':', 'trump', 'cancels', 'trip', 'to', 'london', 'citing', 'bad', 'real', 'estate', 'deal', 'made', 'by', 'obama', 'that', 'was', 'really', 'made', 'by', 'bush.', 'maybe', 'he’s', 'just', 'sca…rt', ':', 'if', 'the', 'administration', 'stops', 'funding', ',', 'the', 'humanitarian', 'consequences', 'will', 'be', 'dramatic.', 'and', '…trump', 'cancels', 'trip', 'to', 'london', 'citing', 'bad', 'real', 'estate', 'deal', 'made', 'by', 'obama', 'that', 'was', 'really', 'made', 'by', 'bush.', 'maybe', 'he’s', 'jus…', ':', 'a', 'few', 'days', 'ago,', 'many', 'people', 'i', 'like', '&amp;', 'normally', 'agree', 'with', 'urged', 'trump', 'to', 'speak', 'out', 'on', 'behalf', 'of', 'iranian', 'protesters.', 'this', 'shit…rt', ':', 'trump', 'said', 'u.s.', 'should', 'keep', 'out', 'immigrants', 'from', '\"shithole', 'countries\"', 'including', 'haiti.', 'the', 'star', 'running', 'back', 'of', 'u.', 'of', 'geo…rt', ':', 'a', 'few', 'days', 'ago,', 'many', 'people', 'i', 'like', '&amp;', 'normally', 'agree', 'with', 'urged', 'trump', 'to', 'speak', 'out', 'on', 'behalf', 'of', 'iranian', 'protesters.', 'this', 'shit…rt', ':', 'a', 'few', 'days', 'ago,', 'many', 'people', 'i', 'like', '&amp;', 'normally', 'agree', 'with', 'urged', 'trump', 'to', 'speak', 'out', 'on', 'behalf', 'of', 'iranian', 'protesters.', 'this', 'shit…rt', ':', 'a', 'few', 'days', 'ago,', 'many', 'people', 'i', 'like', '&amp;', 'normally', 'agree', 'with', 'urged', 'trump', 'to', 'speak', 'out', 'on', 'behalf', 'of', 'iranian', 'protesters.', 'this', 'shit…rt', ':', 'if', 'the', 'administration', 'stops', 'funding', ',', 'the', 'humanitarian', 'consequences', 'will', 'be', 'dramatic.', 'and', '…rt', ':', 'a', 'few', 'days', 'ago,', 'many', 'people', 'i', 'like', '&amp;', 'normally', 'agree', 'with', 'urged', 'trump', 'to', 'speak', 'out', 'on', 'behalf', 'of', 'iranian', 'protesters.', 'this', 'shit…rt', ':', 'a', 'few', 'days', 'ago,', 'many', 'people', 'i', 'like', '&amp;', 'normally', 'agree', 'with', 'urged', 'trump', 'to', 'speak', 'out', 'on', 'behalf', 'of', 'iranian', 'protesters.', 'this', 'shit…rt', ':', 'a', 'few', 'days', 'ago,', 'many', 'people', 'i', 'like', '&amp;', 'normally', 'agree', 'with', 'urged', 'trump', 'to', 'speak', 'out', 'on', 'behalf', 'of', 'iranian', 'protesters.', 'this', 'shit…rt', ':', 'a', 'few', 'days', 'ago,', 'many', 'people', 'i', 'like', '&amp;', 'normally', 'agree', 'with', 'urged', 'trump', 'to', 'speak', 'out', 'on', 'behalf', 'of', 'iranian', 'protesters.', 'this', 'shit…rt', ':', 'a', 'few', 'days', 'ago,', 'many', 'people', 'i', 'like', '&amp;', 'normally', 'agree', 'with', 'urged', 'trump', 'to', 'speak', 'out', 'on', 'behalf', 'of', 'iranian', 'protesters.', 'this', 'shit…rt', ':', 'a', 'few', 'days', 'ago,', 'many', 'people', 'i', 'like', '&amp;', 'normally', 'agree', 'with', 'urged', 'trump', 'to', 'speak', 'out', 'on', 'behalf', 'of', 'iranian', 'protesters.', 'this', 'shit…rt', ':', 'a', 'few', 'days', 'ago,', 'many', 'people', 'i', 'like', '&amp;', 'normally', 'agree', 'with', 'urged', 'trump', 'to', 'speak', 'out', 'on', 'behalf', 'of', 'iranian', 'protesters.', 'this', 'shit…rt', ':', 'a', 'few', 'days', 'ago,', 'many', 'people', 'i', 'like', '&amp;', 'normally', 'agree', 'with', 'urged', 'trump', 'to', 'speak', 'out', 'on', 'behalf', 'of', 'iranian', 'protesters.', 'this', 'shit…rt', ':', 'a', 'few', 'days', 'ago,', 'many', 'people', 'i', 'like', '&amp;', 'normally', 'agree', 'with', 'urged', 'trump', 'to', 'speak', 'out', 'on', 'behalf', 'of', 'iranian', 'protesters.', 'this', 'shit…rt', ':', 'a', 'few', 'days', 'ago,', 'many', 'people', 'i', 'like', '&amp;', 'normally', 'agree', 'with', 'urged', 'trump', 'to', 'speak', 'out', 'on', 'behalf', 'of', 'iranian', 'protesters.', 'this', 'shit…rt', ':', 'a', 'few', 'days', 'ago,', 'many', 'people', 'i', 'like', '&amp;', 'normally', 'agree', 'with', 'urged', 'trump', 'to', 'speak', 'out', 'on', 'behalf', 'of', 'iranian', 'protesters.', 'this', 'shit…rt', ':', 'a', 'few', 'days', 'ago,', 'many', 'people', 'i', 'like', '&amp;', 'normally', 'agree', 'with', 'urged', 'trump', 'to', 'speak', 'out', 'on', 'behalf', 'of', 'iranian', 'protesters.', 'this', 'shit…rt', ':', 'trump', 'said', 'u.s.', 'should', 'keep', 'out', 'immigrants', 'from', '\"shithole', 'countries\"', 'including', 'haiti.', 'the', 'star', 'running', 'back', 'of', 'u.', 'of', 'geo…rt', ':', 'a', 'few', 'days', 'ago,', 'many', 'people', 'i', 'like', '&amp;', 'normally', 'agree', 'with', 'urged', 'trump', 'to', 'speak', 'out', 'on', 'behalf', 'of', 'iranian', 'protesters.', 'this', 'shit…rt', ':', 'a', 'few', 'days', 'ago,', 'many', 'people', 'i', 'like', '&amp;', 'normally', 'agree', 'with', 'urged', 'trump', 'to', 'speak', 'out', 'on', 'behalf', 'of', 'iranian', 'protesters.', 'this', 'shit…rt', ':', 'a', 'few', 'days', 'ago,', 'many', 'people', 'i', 'like', '&amp;', 'normally', 'agree', 'with', 'urged', 'trump', 'to', 'speak', 'out', 'on', 'behalf', 'of', 'iranian', 'protesters.', 'this', 'shit…rt', ':', 'a', 'few', 'days', 'ago,', 'many', 'people', 'i', 'like', '&amp;', 'normally', 'agree', 'with', 'urged', 'trump', 'to', 'speak', 'out', 'on', 'behalf', 'of', 'iranian', 'protesters.', 'this', 'shit…rt', ':', 'a', 'few', 'days', 'ago,', 'many', 'people', 'i', 'like', '&amp;', 'normally', 'agree', 'with', 'urged', 'trump', 'to', 'speak', 'out', 'on', 'behalf', 'of', 'iranian', 'protesters.', 'this', 'shit…rt', ':', 'a', 'few', 'days', 'ago,', 'many', 'people', 'i', 'like', '&amp;', 'normally', 'agree', 'with', 'urged', 'trump', 'to', 'speak', 'out', 'on', 'behalf', 'of', 'iranian', 'protesters.', 'this', 'shit…rt', ':', 'a', 'few', 'days', 'ago,', 'many', 'people', 'i', 'like', '&amp;', 'normally', 'agree', 'with', 'urged', 'trump', 'to', 'speak', 'out', 'on', 'behalf', 'of', 'iranian', 'protesters.', 'this', 'shit…rt', ':', 'a', 'few', 'days', 'ago,', 'many', 'people', 'i', 'like', '&amp;', 'normally', 'agree', 'with', 'urged', 'trump', 'to', 'speak', 'out', 'on', 'behalf', 'of', 'iranian', 'protesters.', 'this', 'shit…rt', ':', 'a', 'few', 'days', 'ago,', 'many', 'people', 'i', 'like', '&amp;', 'normally', 'agree', 'with', 'urged', 'trump', 'to', 'speak', 'out', 'on', 'behalf', 'of', 'iranian', 'protesters.', 'this', 'shit…rt', ':', 'a', 'few', 'days', 'ago,', 'many', 'people', 'i', 'like', '&amp;', 'normally', 'agree', 'with', 'urged', 'trump', 'to', 'speak', 'out', 'on', 'behalf', 'of', 'iranian', 'protesters.', 'this', 'shit…rt', ':', 'a', 'few', 'days', 'ago,', 'many', 'people', 'i', 'like', '&amp;', 'normally', 'agree', 'with', 'urged', 'trump', 'to', 'speak', 'out', 'on', 'behalf', 'of', 'iranian', 'protesters.', 'this', 'shit…rt', ':', 'a', 'few', 'days', 'ago,', 'many', 'people', 'i', 'like', '&amp;', 'normally', 'agree', 'with', 'urged', 'trump', 'to', 'speak', 'out', 'on', 'behalf', 'of', 'iranian', 'protesters.', 'this', 'shit…rt', ':', 'a', 'few', 'days', 'ago,', 'many', 'people', 'i', 'like', '&amp;', 'normally', 'agree', 'with', 'urged', 'trump', 'to', 'speak', 'out', 'on', 'behalf', 'of', 'iranian', 'protesters.', 'this', 'shit…rt', ':', 'a', 'few', 'days', 'ago,', 'many', 'people', 'i', 'like', '&amp;', 'normally', 'agree', 'with', 'urged', 'trump', 'to', 'speak', 'out', 'on', 'behalf', 'of', 'iranian', 'protesters.', 'this', 'shit…rt', ':', 'and', 'here', 'he', 'is', 'on', 'twitter,', 'this', 'september,', 'taking', 'credit', 'for', \"trump's\", 'victory!', ':', 'a', 'few', 'days', 'ago,', 'many', 'people', 'i', 'like', '&amp;', 'normally', 'agree', 'with', 'urged', 'trump', 'to', 'speak', 'out', 'on', 'behalf', 'of', 'iranian', 'protesters.', 'this', 'shit…rt', ':', 'a', 'few', 'days', 'ago,', 'many', 'people', 'i', 'like', '&amp;', 'normally', 'agree', 'with', 'urged', 'trump', 'to', 'speak', 'out', 'on', 'behalf', 'of', 'iranian', 'protesters.', 'this', 'shit…rt', ':', 'a', 'few', 'days', 'ago,', 'many', 'people', 'i', 'like', '&amp;', 'normally', 'agree', 'with', 'urged', 'trump', 'to', 'speak', 'out', 'on', 'behalf', 'of', 'iranian', 'protesters.', 'this', 'shit…rt', ':', 'a', 'few', 'days', 'ago,', 'many', 'people', 'i', 'like', '&amp;', 'normally', 'agree', 'with', 'urged', 'trump', 'to', 'speak', 'out', 'on', 'behalf', 'of', 'iranian', 'protesters.', 'this', 'shit…rt', ':', 'a', 'few', 'days', 'ago,', 'many', 'people', 'i', 'like', '&amp;', 'normally', 'agree', 'with', 'urged', 'trump', 'to', 'speak', 'out', 'on', 'behalf', 'of', 'iranian', 'protesters.', 'this', 'shit…rt', ':', 'a', 'few', 'days', 'ago,', 'many', 'people', 'i', 'like', '&amp;', 'normally', 'agree', 'with', 'urged', 'trump', 'to', 'speak', 'out', 'on', 'behalf', 'of', 'iranian', 'protesters.', 'this', 'shit…rt', ':', 'a', 'few', 'days', 'ago,', 'many', 'people', 'i', 'like', '&amp;', 'normally', 'agree', 'with', 'urged', 'trump', 'to', 'speak', 'out', 'on', 'behalf', 'of', 'iranian', 'protesters.', 'this', 'shit…rt', ':', 'a', 'few', 'days', 'ago,', 'many', 'people', 'i', 'like', '&amp;', 'normally', 'agree', 'with', 'urged', 'trump', 'to', 'speak', 'out', 'on', 'behalf', 'of', 'iranian', 'protesters.', 'this', 'shit…rt', ':', 'a', 'few', 'days', 'ago,', 'many', 'people', 'i', 'like', '&amp;', 'normally', 'agree', 'with', 'urged', 'trump', 'to', 'speak', 'out', 'on', 'behalf', 'of', 'iranian', 'protesters.', 'this', 'shit…rt', ':', 'a', 'few', 'days', 'ago,', 'many', 'people', 'i', 'like', '&amp;', 'normally', 'agree', 'with', 'urged', 'trump', 'to', 'speak', 'out', 'on', 'behalf', 'of', 'iranian', 'protesters.', 'this', 'shit…rt', ':', 'a', 'few', 'days', 'ago,', 'many', 'people', 'i', 'like', '&amp;', 'normally', 'agree', 'with', 'urged', 'trump', 'to', 'speak', 'out', 'on', 'behalf', 'of', 'iranian', 'protesters.', 'this', 'shit…rt', ':', 'a', 'few', 'days', 'ago,', 'many', 'people', 'i', 'like', '&amp;', 'normally', 'agree', 'with', 'urged', 'trump', 'to', 'speak', 'out', 'on', 'behalf', 'of', 'iranian', 'protesters.', 'this', 'shit…rt', ':', 'a', 'few', 'days', 'ago,', 'many', 'people', 'i', 'like', '&amp;', 'normally', 'agree', 'with', 'urged', 'trump', 'to', 'speak', 'out', 'on', 'behalf', 'of', 'iranian', 'protesters.', 'this', 'shit…rt', ':', 'a', 'few', 'days', 'ago,', 'many', 'people', 'i', 'like', '&amp;', 'normally', 'agree', 'with', 'urged', 'trump', 'to', 'speak', 'out', 'on', 'behalf', 'of', 'iranian', 'protesters.', 'this', 'shit…', \"bingo!they're\", 'either', 'trying', 'to', 'cash', 'out', 'and', 'use', 'whatever', 'position', 'of', 'power', 'they', 'have', 'left…', \"trump's\", 'sh*thole', 'comment', 'was', 'wrong', 'in', 'many', 'ways,', 'but', 'the', 'leftist', 'outrage', 'is', 'pure', 'hypocrisy', 'in', 'some', 'cas…', ':', 'a', 'few', 'days', 'ago,', 'many', 'people', 'i', 'like', '&amp;', 'normally', 'agree', 'with', 'urged', 'trump', 'to', 'speak', 'out', 'on', 'behalf', 'of', 'iranian', 'protesters.', 'this', 'shit…rt', ':', 'trump', 'said', 'u.s.', 'should', 'keep', 'out', 'immigrants', 'from', '\"shithole', 'countries\"', 'including', 'haiti.', 'the', 'star', 'running', 'back', 'of', 'u.', 'of', 'geo…rt', ':', 'and', 'here', 'he', 'is', 'on', 'twitter,', 'this', 'september,', 'taking', 'credit', 'for', \"trump's\", 'victory!', ':', 'trump', 'cancels', 'trip', 'to', 'london', 'citing', 'bad', 'real', 'estate', 'deal', 'made', 'by', 'obama', 'that', 'was', 'really', 'made', 'by', 'bush.', 'maybe', 'he’s', 'just', 'sca…', \"he's\", 'a', 'coward...', 'pure', 'and', 'simple.', 'he', \"didn't\", 'say', 'jack', 'sh*t', 'to', 'trump...', 'just', 'bent', 'over', 'and', 'too…', ':trump', 's', ':them', 'at', ':newest', ':items', ':facebook', 'resident', ':items', 'very', 'nald', ':new', 'years…', ':', 'a', 'few', 'days', 'ago,', 'many', 'people', 'i', 'like', '&amp;', 'normally', 'agree', 'with', 'urged', 'trump', 'to', 'speak', 'out', 'on', 'behalf', 'of', 'iranian', 'protesters.', 'this', 'shit…rt', ':', 'a', 'few', 'days', 'ago,', 'many', 'people', 'i', 'like', '&amp;', 'normally', 'agree', 'with', 'urged', 'trump', 'to', 'speak', 'out', 'on', 'behalf', 'of', 'iranian', 'protesters.', 'this', 'shit…rt', ':', 'trump', 'cancels', 'trip', 'to', 'london', 'citing', 'bad', 'real', 'estate', 'deal', 'made', 'by', 'obama', 'that', 'was', 'really', 'made', 'by', 'bush.', 'maybe', 'he’s', 'just', 'sca…rt', ':', 'a', 'few', 'days', 'ago,', 'many', 'people', 'i', 'like', '&amp;', 'normally', 'agree', 'with', 'urged', 'trump', 'to', 'speak', 'out', 'on', 'behalf', 'of', 'iranian', 'protesters.', 'this', 'shit…', 'not', 'everyone', 'supports', \"trump's\", 'kissing', 'of', 'liberal', 'a$$', 'as', 'you', 'do.', '…', ':', 'a', 'few', 'days', 'ago,', 'many', 'people', 'i', 'like', '&amp;', 'normally', 'agree', 'with', 'urged', 'trump', 'to', 'speak', 'out', 'on', 'behalf', 'of', 'iranian', 'protesters.', 'this', 'shit…rt', ':', 'a', 'few', 'days', 'ago,', 'many', 'people', 'i', 'like', '&amp;', 'normally', 'agree', 'with', 'urged', 'trump', 'to', 'speak', 'out', 'on', 'behalf', 'of', 'iranian', 'protesters.', 'this', 'shit…rt', ':', 'a', 'few', 'days', 'ago,', 'many', 'people', 'i', 'like', '&amp;', 'normally', 'agree', 'with', 'urged', 'trump', 'to', 'speak', 'out', 'on', 'behalf', 'of', 'iranian', 'protesters.', 'this', 'shit…rt', ':', 'trump', 'says', 'he', 'can', 'use', 'nafta', 'money', 'to', 'make', 'mexico', 'pay', 'for', 'the', 'wall...', ':', 'and', 'here', 'he', 'is', 'on', 'twitter,', 'this', 'september,', 'taking', 'credit', 'for', \"trump's\", 'victory!', ':', 'a', 'few', 'days', 'ago,', 'many', 'people', 'i', 'like', '&amp;', 'normally', 'agree', 'with', 'urged', 'trump', 'to', 'speak', 'out', 'on', 'behalf', 'of', 'iranian', 'protesters.', 'this', 'shit…rt', ':', ')', 'now,', 'trump', 'and', 'the', 'usa', 'is', 'not', 'in', 'the', 'weaker', 'position,', 'but', 'even', 'in', 'a', 'stronger', 'position', 'sapping', 'the', 'weaker', 'party', 'of', 'sup…rt', ':', 'a', 'few', 'days', 'ago,', 'many', 'people', 'i', 'like', '&amp;', 'normally', 'agree', 'with', 'urged', 'trump', 'to', 'speak', 'out', 'on', 'behalf', 'of', 'iranian', 'protesters.', 'this', 'shit…rt', ':', 'a', 'few', 'days', 'ago,', 'many', 'people', 'i', 'like', '&amp;', 'normally', 'agree', 'with', 'urged', 'trump', 'to', 'speak', 'out', 'on', 'behalf', 'of', 'iranian', 'protesters.', 'this', 'shit…rt', ':', ')', 'now,', 'trump', 'and', 'the', 'usa', 'is', 'not', 'in', 'the', 'weaker', 'position,', 'but', 'even', 'in', 'a', 'stronger', 'position', 'sapping', 'the', 'weaker', 'party', 'of', 'sup…7)', 'now,', 'trump', 'and', 'the', 'usa', 'is', 'not', 'in', 'the', 'weaker', 'position,', 'but', 'even', 'in', 'a', 'stronger', 'position', 'sapping', 'the', 'weaker', 'party', 'o…', ':', 'trump', 'cancels', 'trip', 'to', 'london', 'citing', 'bad', 'real', 'estate', 'deal', 'made', 'by', 'obama', 'that', 'was', 'really', 'made', 'by', 'bush.', 'maybe', 'he’s', 'just', 'sca…rt', ':', 'and', 'here', 'he', 'is', 'on', 'twitter,', 'this', 'september,', 'taking', 'credit', 'for', \"trump's\", 'victory!', ':', 'trump', 'cancels', 'trip', 'to', 'london', 'citing', 'bad', 'real', 'estate', 'deal', 'made', 'by', 'obama', 'that', 'was', 'really', 'made', 'by', 'bush.', 'maybe', 'he’s', 'just', 'sca…rt', ':', 'trump', 'cancels', 'trip', 'to', 'london', 'citing', 'bad', 'real', 'estate', 'deal', 'made', 'by', 'obama', 'that', 'was', 'really', 'made', 'by', 'bush.', 'maybe', 'he’s', 'just', 'sca…rt', ':', 'a', 'few', 'days', 'ago,', 'many', 'people', 'i', 'like', '&amp;', 'normally', 'agree', 'with', 'urged', 'trump', 'to', 'speak', 'out', 'on', 'behalf', 'of', 'iranian', 'protesters.', 'this', 'shit…rt', ':', 'trump', 'says', 'he', 'can', 'use', 'nafta', 'money', 'to', 'make', 'mexico', 'pay', 'for', 'the', 'wall...', ':', 'a', 'few', 'days', 'ago,', 'many', 'people', 'i', 'like', '&amp;', 'normally', 'agree', 'with', 'urged', 'trump', 'to', 'speak', 'out', 'on', 'behalf', 'of', 'iranian', 'protesters.', 'this', 'shit…rt', ':', 'and', 'here', 'he', 'is', 'on', 'twitter,', 'this', 'september,', 'taking', 'credit', 'for', \"trump's\", 'victory!', ':', 'trump', 'says', 'he', 'can', 'use', 'nafta', 'money', 'to', 'make', 'mexico', 'pay', 'for', 'the', 'wall...', ':', 'trump', 'cancels', 'trip', 'to', 'london', 'citing', 'bad', 'real', 'estate', 'deal', 'made', 'by', 'obama', 'that', 'was', 'really', 'made', 'by', 'bush.', 'maybe', 'he’s', 'just', 'sca…rt', ':', 'trump', 'cancels', 'trip', 'to', 'london', 'citing', 'bad', 'real', 'estate', 'deal', 'made', 'by', 'obama', 'that', 'was', 'really', 'made', 'by', 'bush.', 'maybe', 'he’s', 'just', 'sca…rt', ':', 'a', 'few', 'days', 'ago,', 'many', 'people', 'i', 'like', '&amp;', 'normally', 'agree', 'with', 'urged', 'trump', 'to', 'speak', 'out', 'on', 'behalf', 'of', 'iranian', 'protesters.', 'this', 'shit…rt', ':', 'a', 'few', 'days', 'ago,', 'many', 'people', 'i', 'like', '&amp;', 'normally', 'agree', 'with', 'urged', 'trump', 'to', 'speak', 'out', 'on', 'behalf', 'of', 'iranian', 'protesters.', 'this', 'shit…trump', 'says', 'he', 'can', 'use', 'nafta', 'money', 'to', 'make', 'mexico', 'pay', 'for', 'the', 'wall...', ':', 'a', 'few', 'days', 'ago,', 'many', 'people', 'i', 'like', '&amp;', 'normally', 'agree', 'with', 'urged', 'trump', 'to', 'speak', 'out', 'on', 'behalf', 'of', 'iranian', 'protesters.', 'this', 'shit…rt', ':', 'trump', 'cancels', 'trip', 'to', 'london', 'citing', 'bad', 'real', 'estate', 'deal', 'made', 'by', 'obama', 'that', 'was', 'really', 'made', 'by', 'bush.', 'maybe', 'he’s', 'just', 'sca…rt', ':', 'a', 'few', 'days', 'ago,', 'many', 'people', 'i', 'like', '&amp;', 'normally', 'agree', 'with', 'urged', 'trump', 'to', 'speak', 'out', 'on', 'behalf', 'of', 'iranian', 'protesters.', 'this', 'shit…rt', ':', 'trump', 'cancels', 'trip', 'to', 'london', 'citing', 'bad', 'real', 'estate', 'deal', 'made', 'by', 'obama', 'that', 'was', 'really', 'made', 'by', 'bush.', 'maybe', 'he’s', 'just', 'sca…rt', ':', 'a', 'few', 'days', 'ago,', 'many', 'people', 'i', 'like', '&amp;', 'normally', 'agree', 'with', 'urged', 'trump', 'to', 'speak', 'out', 'on', 'behalf', 'of', 'iranian', 'protesters.', 'this', 'shit…rt', ':', 'and', 'here', 'he', 'is', 'on', 'twitter,', 'this', 'september,', 'taking', 'credit', 'for', \"trump's\", 'victory!', ':', 'trump', 'cancels', 'trip', 'to', 'london', 'citing', 'bad', 'real', 'estate', 'deal', 'made', 'by', 'obama', 'that', 'was', 'really', 'made', 'by', 'bush.', 'maybe', 'he’s', 'just', 'sca…rt', ':', 'trump', 'cancels', 'trip', 'to', 'london', 'citing', 'bad', 'real', 'estate', 'deal', 'made', 'by', 'obama', 'that', 'was', 'really', 'made', 'by', 'bush.', 'maybe', 'he’s', 'just', 'sca…rt', ':', 'a', 'few', 'days', 'ago,', 'many', 'people', 'i', 'like', '&amp;', 'normally', 'agree', 'with', 'urged', 'trump', 'to', 'speak', 'out', 'on', 'behalf', 'of', 'iranian', 'protesters.', 'this', 'shit…rt', ':', 'a', 'few', 'days', 'ago,', 'many', 'people', 'i', 'like', '&amp;', 'normally', 'agree', 'with', 'urged', 'trump', 'to', 'speak', 'out', 'on', 'behalf', 'of', 'iranian', 'protesters.', 'this', 'shit…rt', ':', 'trump', 'cancels', 'trip', 'to', 'london', 'citing', 'bad', 'real', 'estate', 'deal', 'made', 'by', 'obama', 'that', 'was', 'really', 'made', 'by', 'bush.', 'maybe', 'he’s', 'just', 'sca…rt', ':', 'trump', 'cancels', 'trip', 'to', 'london', 'citing', 'bad', 'real', 'estate', 'deal', 'made', 'by', 'obama', 'that', 'was', 'really', 'made', 'by', 'bush.', 'maybe', 'he’s', 'just', 'sca…rt', ':', 'if', 'the', 'administration', 'stops', 'funding', ',', 'the', 'humanitarian', 'consequences', 'will', 'be', 'dramatic.', 'and', '…trump', 'cancels', 'trip', 'to', 'london', 'citing', 'bad', 'real', 'estate', 'deal', 'made', 'by', 'obama', 'that', 'was', 'really', 'made', 'by', 'bush.', 'maybe', 'he’s', 'jus…', ':', 'a', 'few', 'days', 'ago,', 'many', 'people', 'i', 'like', '&amp;', 'normally', 'agree', 'with', 'urged', 'trump', 'to', 'speak', 'out', 'on', 'behalf', 'of', 'iranian', 'protesters.', 'this', 'shit…rt', ':', 'trump', 'said', 'u.s.', 'should', 'keep', 'out', 'immigrants', 'from', '\"shithole', 'countries\"', 'including', 'haiti.', 'the', 'star', 'running', 'back', 'of', 'u.', 'of', 'geo…rt', ':', 'a', 'few', 'days', 'ago,', 'many', 'people', 'i', 'like', '&amp;', 'normally', 'agree', 'with', 'urged', 'trump', 'to', 'speak', 'out', 'on', 'behalf', 'of', 'iranian', 'protesters.', 'this', 'shit…rt', ':', 'a', 'few', 'days', 'ago,', 'many', 'people', 'i', 'like', '&amp;', 'normally', 'agree', 'with', 'urged', 'trump', 'to', 'speak', 'out', 'on', 'behalf', 'of', 'iranian', 'protesters.', 'this', 'shit…rt', ':', 'a', 'few', 'days', 'ago,', 'many', 'people', 'i', 'like', '&amp;', 'normally', 'agree', 'with', 'urged', 'trump', 'to', 'speak', 'out', 'on', 'behalf', 'of', 'iranian', 'protesters.', 'this', 'shit…rt', ':', 'if', 'the', 'administration', 'stops', 'funding', ',', 'the', 'humanitarian', 'consequences', 'will', 'be', 'dramatic.', 'and', '…rt', ':', 'a', 'few', 'days', 'ago,', 'many', 'people', 'i', 'like', '&amp;', 'normally', 'agree', 'with', 'urged', 'trump', 'to', 'speak', 'out', 'on', 'behalf', 'of', 'iranian', 'protesters.', 'this', 'shit…rt', ':', 'a', 'few', 'days', 'ago,', 'many', 'people', 'i', 'like', '&amp;', 'normally', 'agree', 'with', 'urged', 'trump', 'to', 'speak', 'out', 'on', 'behalf', 'of', 'iranian', 'protesters.', 'this', 'shit…rt', ':', 'a', 'few', 'days', 'ago,', 'many', 'people', 'i', 'like', '&amp;', 'normally', 'agree', 'with', 'urged', 'trump', 'to', 'speak', 'out', 'on', 'behalf', 'of', 'iranian', 'protesters.', 'this', 'shit…rt', ':', 'a', 'few', 'days', 'ago,', 'many', 'people', 'i', 'like', '&amp;', 'normally', 'agree', 'with', 'urged', 'trump', 'to', 'speak', 'out', 'on', 'behalf', 'of', 'iranian', 'protesters.', 'this', 'shit…rt', ':', 'a', 'few', 'days', 'ago,', 'many', 'people', 'i', 'like', '&amp;', 'normally', 'agree', 'with', 'urged', 'trump', 'to', 'speak', 'out', 'on', 'behalf', 'of', 'iranian', 'protesters.', 'this', 'shit…rt', ':', 'a', 'few', 'days', 'ago,', 'many', 'people', 'i', 'like', '&amp;', 'normally', 'agree', 'with', 'urged', 'trump', 'to', 'speak', 'out', 'on', 'behalf', 'of', 'iranian', 'protesters.', 'this', 'shit…rt', ':', 'a', 'few', 'days', 'ago,', 'many', 'people', 'i', 'like', '&amp;', 'normally', 'agree', 'with', 'urged', 'trump', 'to', 'speak', 'out', 'on', 'behalf', 'of', 'iranian', 'protesters.', 'this', 'shit…rt', ':', 'a', 'few', 'days', 'ago,', 'many', 'people', 'i', 'like', '&amp;', 'normally', 'agree', 'with', 'urged', 'trump', 'to', 'speak', 'out', 'on', 'behalf', 'of', 'iranian', 'protesters.', 'this', 'shit…rt', ':', 'a', 'few', 'days', 'ago,', 'many', 'people', 'i', 'like', '&amp;', 'normally', 'agree', 'with', 'urged', 'trump', 'to', 'speak', 'out', 'on', 'behalf', 'of', 'iranian', 'protesters.', 'this', 'shit…rt', ':', 'a', 'few', 'days', 'ago,', 'many', 'people', 'i', 'like', '&amp;', 'normally', 'agree', 'with', 'urged', 'trump', 'to', 'speak', 'out', 'on', 'behalf', 'of', 'iranian', 'protesters.', 'this', 'shit…rt', ':', 'a', 'few', 'days', 'ago,', 'many', 'people', 'i', 'like', '&amp;', 'normally', 'agree', 'with', 'urged', 'trump', 'to', 'speak', 'out', 'on', 'behalf', 'of', 'iranian', 'protesters.', 'this', 'shit…rt', ':', 'a', 'few', 'days', 'ago,', 'many', 'people', 'i', 'like', '&amp;', 'normally', 'agree', 'with', 'urged', 'trump', 'to', 'speak', 'out', 'on', 'behalf', 'of', 'iranian', 'protesters.', 'this', 'shit…rt', ':', 'trump', 'said', 'u.s.', 'should', 'keep', 'out', 'immigrants', 'from', '\"shithole', 'countries\"', 'including', 'haiti.', 'the', 'star', 'running', 'back', 'of', 'u.', 'of', 'geo…rt', ':', 'a', 'few', 'days', 'ago,', 'many', 'people', 'i', 'like', '&amp;', 'normally', 'agree', 'with', 'urged', 'trump', 'to', 'speak', 'out', 'on', 'behalf', 'of', 'iranian', 'protesters.', 'this', 'shit…rt', ':', 'a', 'few', 'days', 'ago,', 'many', 'people', 'i', 'like', '&amp;', 'normally', 'agree', 'with', 'urged', 'trump', 'to', 'speak', 'out', 'on', 'behalf', 'of', 'iranian', 'protesters.', 'this', 'shit…rt', ':', 'a', 'few', 'days', 'ago,', 'many', 'people', 'i', 'like', '&amp;', 'normally', 'agree', 'with', 'urged', 'trump', 'to', 'speak', 'out', 'on', 'behalf', 'of', 'iranian', 'protesters.', 'this', 'shit…rt', ':', 'a', 'few', 'days', 'ago,', 'many', 'people', 'i', 'like', '&amp;', 'normally', 'agree', 'with', 'urged', 'trump', 'to', 'speak', 'out', 'on', 'behalf', 'of', 'iranian', 'protesters.', 'this', 'shit…rt', ':', 'a', 'few', 'days', 'ago,', 'many', 'people', 'i', 'like', '&amp;', 'normally', 'agree', 'with', 'urged', 'trump', 'to', 'speak', 'out', 'on', 'behalf', 'of', 'iranian', 'protesters.', 'this', 'shit…rt', ':', 'a', 'few', 'days', 'ago,', 'many', 'people', 'i', 'like', '&amp;', 'normally', 'agree', 'with', 'urged', 'trump', 'to', 'speak', 'out', 'on', 'behalf', 'of', 'iranian', 'protesters.', 'this', 'shit…rt', ':', 'a', 'few', 'days', 'ago,', 'many', 'people', 'i', 'like', '&amp;', 'normally', 'agree', 'with', 'urged', 'trump', 'to', 'speak', 'out', 'on', 'behalf', 'of', 'iranian', 'protesters.', 'this', 'shit…rt', ':', 'a', 'few', 'days', 'ago,', 'many', 'people', 'i', 'like', '&amp;', 'normally', 'agree', 'with', 'urged', 'trump', 'to', 'speak', 'out', 'on', 'behalf', 'of', 'iranian', 'protesters.', 'this', 'shit…rt', ':', 'a', 'few', 'days', 'ago,', 'many', 'people', 'i', 'like', '&amp;', 'normally', 'agree', 'with', 'urged', 'trump', 'to', 'speak', 'out', 'on', 'behalf', 'of', 'iranian', 'protesters.', 'this', 'shit…rt', ':', 'a', 'few', 'days', 'ago,', 'many', 'people', 'i', 'like', '&amp;', 'normally', 'agree', 'with', 'urged', 'trump', 'to', 'speak', 'out', 'on', 'behalf', 'of', 'iranian', 'protesters.', 'this', 'shit…rt', ':', 'a', 'few', 'days', 'ago,', 'many', 'people', 'i', 'like', '&amp;', 'normally', 'agree', 'with', 'urged', 'trump', 'to', 'speak', 'out', 'on', 'behalf', 'of', 'iranian', 'protesters.', 'this', 'shit…rt', ':', 'a', 'few', 'days', 'ago,', 'many', 'people', 'i', 'like', '&amp;', 'normally', 'agree', 'with', 'urged', 'trump', 'to', 'speak', 'out', 'on', 'behalf', 'of', 'iranian', 'protesters.', 'this', 'shit…rt', ':', 'a', 'few', 'days', 'ago,', 'many', 'people', 'i', 'like', '&amp;', 'normally', 'agree', 'with', 'urged', 'trump', 'to', 'speak', 'out', 'on', 'behalf', 'of', 'iranian', 'protesters.', 'this', 'shit…rt', ':', 'a', 'few', 'days', 'ago,', 'many', 'people', 'i', 'like', '&amp;', 'normally', 'agree', 'with', 'urged', 'trump', 'to', 'speak', 'out', 'on', 'behalf', 'of', 'iranian', 'protesters.', 'this', 'shit…rt', ':', 'and', 'here', 'he', 'is', 'on', 'twitter,', 'this', 'september,', 'taking', 'credit', 'for', \"trump's\", 'victory!', ':', 'a', 'few', 'days', 'ago,', 'many', 'people', 'i', 'like', '&amp;', 'normally', 'agree', 'with', 'urged', 'trump', 'to', 'speak', 'out', 'on', 'behalf', 'of', 'iranian', 'protesters.', 'this', 'shit…rt', ':', 'a', 'few', 'days', 'ago,', 'many', 'people', 'i', 'like', '&amp;', 'normally', 'agree', 'with', 'urged', 'trump', 'to', 'speak', 'out', 'on', 'behalf', 'of', 'iranian', 'protesters.', 'this', 'shit…rt', ':', 'a', 'few', 'days', 'ago,', 'many', 'people', 'i', 'like', '&amp;', 'normally', 'agree', 'with', 'urged', 'trump', 'to', 'speak', 'out', 'on', 'behalf', 'of', 'iranian', 'protesters.', 'this', 'shit…rt', ':', 'a', 'few', 'days', 'ago,', 'many', 'people', 'i', 'like', '&amp;', 'normally', 'agree', 'with', 'urged', 'trump', 'to', 'speak', 'out', 'on', 'behalf', 'of', 'iranian', 'protesters.', 'this', 'shit…rt', ':', 'a', 'few', 'days', 'ago,', 'many', 'people', 'i', 'like', '&amp;', 'normally', 'agree', 'with', 'urged', 'trump', 'to', 'speak', 'out', 'on', 'behalf', 'of', 'iranian', 'protesters.', 'this', 'shit…rt', ':', 'a', 'few', 'days', 'ago,', 'many', 'people', 'i', 'like', '&amp;', 'normally', 'agree', 'with', 'urged', 'trump', 'to', 'speak', 'out', 'on', 'behalf', 'of', 'iranian', 'protesters.', 'this', 'shit…rt', ':', 'a', 'few', 'days', 'ago,', 'many', 'people', 'i', 'like', '&amp;', 'normally', 'agree', 'with', 'urged', 'trump', 'to', 'speak', 'out', 'on', 'behalf', 'of', 'iranian', 'protesters.', 'this', 'shit…rt', ':', 'a', 'few', 'days', 'ago,', 'many', 'people', 'i', 'like', '&amp;', 'normally', 'agree', 'with', 'urged', 'trump', 'to', 'speak', 'out', 'on', 'behalf', 'of', 'iranian', 'protesters.', 'this', 'shit…rt', ':', 'a', 'few', 'days', 'ago,', 'many', 'people', 'i', 'like', '&amp;', 'normally', 'agree', 'with', 'urged', 'trump', 'to', 'speak', 'out', 'on', 'behalf', 'of', 'iranian', 'protesters.', 'this', 'shit…rt', ':', 'a', 'few', 'days', 'ago,', 'many', 'people', 'i', 'like', '&amp;', 'normally', 'agree', 'with', 'urged', 'trump', 'to', 'speak', 'out', 'on', 'behalf', 'of', 'iranian', 'protesters.', 'this', 'shit…rt', ':', 'a', 'few', 'days', 'ago,', 'many', 'people', 'i', 'like', '&amp;', 'normally', 'agree', 'with', 'urged', 'trump', 'to', 'speak', 'out', 'on', 'behalf', 'of', 'iranian', 'protesters.', 'this', 'shit…rt', ':', 'a', 'few', 'days', 'ago,', 'many', 'people', 'i', 'like', '&amp;', 'normally', 'agree', 'with', 'urged', 'trump', 'to', 'speak', 'out', 'on', 'behalf', 'of', 'iranian', 'protesters.', 'this', 'shit…rt', ':', 'a', 'few', 'days', 'ago,', 'many', 'people', 'i', 'like', '&amp;', 'normally', 'agree', 'with', 'urged', 'trump', 'to', 'speak', 'out', 'on', 'behalf', 'of', 'iranian', 'protesters.', 'this', 'shit…rt', ':', 'a', 'few', 'days', 'ago,', 'many', 'people', 'i', 'like', '&amp;', 'normally', 'agree', 'with', 'urged', 'trump', 'to', 'speak', 'out', 'on', 'behalf', 'of', 'iranian', 'protesters.', 'this', 'shit…rt', ':', 'support', 'and', 'resistance', 'by', 'dukascopy,', 'dukascopy', 'swiss', 'forex', 'bank', '&amp;', 'marketplace', 'registration', 'open', 'live', 'account', 'demo', 'account', '/', 'b…support', 'and', 'resistance', 'by', 'dukascopy,', 'dukascopy', 'swiss', 'forex', 'bank', '&amp;', 'marketplace', 'registration', 'open', 'live', 'account', 'demo', 'a…', 'freedom', 'of', 'press', 'to', 'be', 'blithering', 'morons', 'benefits', 'trump', 'why', 'would', 'he', 'wan…', '-fire', 'and', 'fury:', 'trump', 'says', 'book', 'is', '‘fiction’', 'and', 'author', 'a', '‘fraud’', ':', 'crazy', 'trump', 'griped', 'about', \"obama's\", 'mental', 'healthdonald', 'j.', 'trump', 'on', 'twitter:', '\"i', 'am', 'starting', 'to', 'think', 'that', 'there', 'is', '...', 'j.', 'trump', 'on', 'twitter:', '\"who', \"wouldn't\", 'take', \"kate's\", 'picture', 'and', '...nearly', ',000', 'salvadorans,', 'trump', 'administration,', 'el', 'salvador', '【fr:69.9t/m】crazy', 'trump', 'griped', 'about', \"obama's\", 'mental', 'healthdonald', 'j.', 'trump', 'on', 'twitter:', '\"i', 'am', 'starting', 'to', 'think', 'that', 'there', 'is', '..…', ':', 'bannon', 'apologizes', 'to', 'trump,', 'but', 'is', 'it', 'too', 'late?', \"don't\", 'get', 'to', 'cry', 'about', 'people', 'questioning', 'your', 'mental', 'health.', 'you', \"don't.\", 'what', 'goes', 'around,', 'comes', 'around.', '…', 'apologizes', 'to', 'trump,', 'but', 'is', 'it', 'too', 'late?', 'all', 'that', 'chest-thumping', 'for', 'years', 'about', 'how', 'patriotic', 'they', 'are.while', 'trump', 'and', 'the', 'gop', 'w…', ':', 'crazy', 'trump', 'griped', 'about', \"obama's\", 'mental', 'healthdonald', 'j.', 'trump', 'on', 'twitter:', '\"i', 'am', 'starting', 'to', 'think', 'that', 'there', 'is', '...', 'trump', 'griped', 'about', \"obama's\", 'mental', 'healthdonald', 'j.', 'trump', 'on', 'twitter:', '\"i', 'am', 'starting', 'to', 'think', 'that', 'there', 'is', '..…', 'pop-up', 'book', 'version', 'of', 'the', 'new', '\"fire', 'and', 'fury\"', 'trump', 'eé', 'exists,', 'to', 'streamline', 'your', 'reading', 'via…', 'urchase', 'at', ':trump', ':carpet', ':velvet', 'eech', ':golden', 'globe', ':the', 'red', ':neck', ':award…', 'i', 'would', 'think', 'so,', 'but', 'look', 'at', 'how', 'many', 'support', 'trump', 'working', 'to', 'save', \"obama's\", ':…', 'palm', '&lt;blockquote', 'class=\"twitter-tweet\"', 'data-lang=\"en\"&gt;&lt', 'lang=\"en\"', 'dir=\"ltr\"&gt;....to', 'president', 'of', 'the', 'united', 'st…', 'the', 'actual', 'live', 'tweet', 'where', 'trump', 'said', 'this:', 'and', 'archived:', ':', 'support', 'and', 'resistance', 'by', 'dukascopy,', 'dukascopy', 'swiss', 'forex', 'bank', '&amp;', 'marketplace', 'registration', 'open', 'live', 'account', 'demo', 'account', '/', 'b…support', 'and', 'resistance', 'by', 'dukascopy,', 'dukascopy', 'swiss', 'forex', 'bank', '&amp;', 'marketplace', 'registration', 'open', 'live', 'account', 'demo', 'a…', 'freedom', 'of', 'press', 'to', 'be', 'blithering', 'morons', 'benefits', 'trump', 'why', 'would', 'he', 'wan…', '-fire', 'and', 'fury:', 'trump', 'says', 'book', 'is', '‘fiction’', 'and', 'author', 'a', '‘fraud’', ':', 'crazy', 'trump', 'griped', 'about', \"obama's\", 'mental', 'healthdonald', 'j.', 'trump', 'on', 'twitter:', '\"i', 'am', 'starting', 'to', 'think', 'that', 'there', 'is', '...', 'j.', 'trump', 'on', 'twitter:', '\"who', \"wouldn't\", 'take', \"kate's\", 'picture', 'and', '...nearly', ',000', 'salvadorans,', 'trump', 'administration,', 'el', 'salvador', '【fr:69.9t/m】crazy', 'trump', 'griped', 'about', \"obama's\", 'mental', 'healthdonald', 'j.', 'trump', 'on', 'twitter:', '\"i', 'am', 'starting', 'to', 'think', 'that', 'there', 'is', '..…', ':', 'bannon', 'apologizes', 'to', 'trump,', 'but', 'is', 'it', 'too', 'late?', \"don't\", 'get', 'to', 'cry', 'about', 'people', 'questioning', 'your', 'mental', 'health.', 'you', \"don't.\", 'what', 'goes', 'around,', 'comes', 'around.', '…', 'apologizes', 'to', 'trump,', 'but', 'is', 'it', 'too', 'late?', 'all', 'that', 'chest-thumping', 'for', 'years', 'about', 'how', 'patriotic', 'they', 'are.while', 'trump', 'and', 'the', 'gop', 'w…', ':', 'crazy', 'trump', 'griped', 'about', \"obama's\", 'mental', 'healthdonald', 'j.', 'trump', 'on', 'twitter:', '\"i', 'am', 'starting', 'to', 'think', 'that', 'there', 'is', '...', 'trump', 'griped', 'about', \"obama's\", 'mental', 'healthdonald', 'j.', 'trump', 'on', 'twitter:', '\"i', 'am', 'starting', 'to', 'think', 'that', 'there', 'is', '..…', 'pop-up', 'book', 'version', 'of', 'the', 'new', '\"fire', 'and', 'fury\"', 'trump', 'eé', 'exists,', 'to', 'streamline', 'your', 'reading', 'via…', 'urchase', 'at', ':trump', ':carpet', ':velvet', 'eech', ':golden', 'globe', ':the', 'red', ':neck', ':award…', 'i', 'would', 'think', 'so,', 'but', 'look', 'at', 'how', 'many', 'support', 'trump', 'working', 'to', 'save', \"obama's\", ':…', 'palm', '&lt;blockquote', 'class=\"twitter-tweet\"', 'data-lang=\"en\"&gt;&lt', 'lang=\"en\"', 'dir=\"ltr\"&gt;....to', 'president', 'of', 'the', 'united', 'st…', 'the', 'actual', 'live', 'tweet', 'where', 'trump', 'said', 'this:', 'and', 'archived:', ':', 'support', 'and', 'resistance', 'by', 'dukascopy,', 'dukascopy', 'swiss', 'forex', 'bank', '&amp;', 'marketplace', 'registration', 'open', 'live', 'account', 'demo', 'account', '/', 'b…support', 'and', 'resistance', 'by', 'dukascopy,', 'dukascopy', 'swiss', 'forex', 'bank', '&amp;', 'marketplace', 'registration', 'open', 'live', 'account', 'demo', 'a…', 'freedom', 'of', 'press', 'to', 'be', 'blithering', 'morons', 'benefits', 'trump', 'why', 'would', 'he', 'wan…', '-fire', 'and', 'fury:', 'trump', 'says', 'book', 'is', '‘fiction’', 'and', 'author', 'a', '‘fraud’', ':', 'crazy', 'trump', 'griped', 'about', \"obama's\", 'mental', 'healthdonald', 'j.', 'trump', 'on', 'twitter:', '\"i', 'am', 'starting', 'to', 'think', 'that', 'there', 'is', '...', 'j.', 'trump', 'on', 'twitter:', '\"who', \"wouldn't\", 'take', \"kate's\", 'picture', 'and', '...nearly', ',000', 'salvadorans,', 'trump', 'administration,', 'el', 'salvador', '【fr:69.9t/m】crazy', 'trump', 'griped', 'about', \"obama's\", 'mental', 'healthdonald', 'j.', 'trump', 'on', 'twitter:', '\"i', 'am', 'starting', 'to', 'think', 'that', 'there', 'is', '..…', ':', 'bannon', 'apologizes', 'to', 'trump,', 'but', 'is', 'it', 'too', 'late?', \"don't\", 'get', 'to', 'cry', 'about', 'people', 'questioning', 'your', 'mental', 'health.', 'you', \"don't.\", 'what', 'goes', 'around,', 'comes', 'around.', '…', 'apologizes', 'to', 'trump,', 'but', 'is', 'it', 'too', 'late?', 'all', 'that', 'chest-thumping', 'for', 'years', 'about', 'how', 'patriotic', 'they', 'are.while', 'trump', 'and', 'the', 'gop', 'w…', ':', 'crazy', 'trump', 'griped', 'about', \"obama's\", 'mental', 'healthdonald', 'j.', 'trump', 'on', 'twitter:', '\"i', 'am', 'starting', 'to', 'think', 'that', 'there', 'is', '...', 'trump', 'griped', 'about', \"obama's\", 'mental', 'healthdonald', 'j.', 'trump', 'on', 'twitter:', '\"i', 'am', 'starting', 'to', 'think', 'that', 'there', 'is', '..…', 'pop-up', 'book', 'version', 'of', 'the', 'new', '\"fire', 'and', 'fury\"', 'trump', 'eé', 'exists,', 'to', 'streamline', 'your', 'reading', 'via…', 'urchase', 'at', ':trump', ':carpet', ':velvet', 'eech', ':golden', 'globe', ':the', 'red', ':neck', ':award…', 'i', 'would', 'think', 'so,', 'but', 'look', 'at', 'how', 'many', 'support', 'trump', 'working', 'to', 'save', \"obama's\", ':…', 'palm', '&lt;blockquote', 'class=\"twitter-tweet\"', 'data-lang=\"en\"&gt;&lt', 'lang=\"en\"', 'dir=\"ltr\"&gt;....to', 'president', 'of', 'the', 'united', 'st…', 'the', 'actual', 'live', 'tweet', 'where', 'trump', 'said', 'this:', 'and', 'archived:', ':', 'support', 'and', 'resistance', 'by', 'dukascopy,', 'dukascopy', 'swiss', 'forex', 'bank', '&amp;', 'marketplace', 'registration', 'open', 'live', 'account', 'demo', 'account', '/', 'b…support', 'and', 'resistance', 'by', 'dukascopy,', 'dukascopy', 'swiss', 'forex', 'bank', '&amp;', 'marketplace', 'registration', 'open', 'live', 'account', 'demo', 'a…', 'freedom', 'of', 'press', 'to', 'be', 'blithering', 'morons', 'benefits', 'trump', 'why', 'would', 'he', 'wan…', '-fire', 'and', 'fury:', 'trump', 'says', 'book', 'is', '‘fiction’', 'and', 'author', 'a', '‘fraud’', ':', 'crazy', 'trump', 'griped', 'about', \"obama's\", 'mental', 'healthdonald', 'j.', 'trump', 'on', 'twitter:', '\"i', 'am', 'starting', 'to', 'think', 'that', 'there', 'is', '...', 'j.', 'trump', 'on', 'twitter:', '\"who', \"wouldn't\", 'take', \"kate's\", 'picture', 'and', '...nearly', ',000', 'salvadorans,', 'trump', 'administration,', 'el', 'salvador', '【fr:69.9t/m】crazy', 'trump', 'griped', 'about', \"obama's\", 'mental', 'healthdonald', 'j.', 'trump', 'on', 'twitter:', '\"i', 'am', 'starting', 'to', 'think', 'that', 'there', 'is', '..…', ':', 'bannon', 'apologizes', 'to', 'trump,', 'but', 'is', 'it', 'too', 'late?', \"don't\", 'get', 'to', 'cry', 'about', 'people', 'questioning', 'your', 'mental', 'health.', 'you', \"don't.\", 'what', 'goes', 'around,', 'comes', 'around.', '…', 'apologizes', 'to', 'trump,', 'but', 'is', 'it', 'too', 'late?', 'all', 'that', 'chest-thumping', 'for', 'years', 'about', 'how', 'patriotic', 'they', 'are.while', 'trump', 'and', 'the', 'gop', 'w…', ':', 'crazy', 'trump', 'griped', 'about', \"obama's\", 'mental', 'healthdonald', 'j.', 'trump', 'on', 'twitter:', '\"i', 'am', 'starting', 'to', 'think', 'that', 'there', 'is', '...', 'trump', 'griped', 'about', \"obama's\", 'mental', 'healthdonald', 'j.', 'trump', 'on', 'twitter:', '\"i', 'am', 'starting', 'to', 'think', 'that', 'there', 'is', '..…', 'pop-up', 'book', 'version', 'of', 'the', 'new', '\"fire', 'and', 'fury\"', 'trump', 'eé', 'exists,', 'to', 'streamline', 'your', 'reading', 'via…', 'urchase', 'at', ':trump', ':carpet', ':velvet', 'eech', ':golden', 'globe', ':the', 'red', ':neck', ':award…', 'i', 'would', 'think', 'so,', 'but', 'look', 'at', 'how', 'many', 'support', 'trump', 'working', 'to', 'save', \"obama's\", ':…', 'palm', '&lt;blockquote', 'class=\"twitter-tweet\"', 'data-lang=\"en\"&gt;&lt', 'lang=\"en\"', 'dir=\"ltr\"&gt;....to', 'president', 'of', 'the', 'united', 'st…', 'the', 'actual', 'live', 'tweet', 'where', 'trump', 'said', 'this:', 'and', 'archived:', ':', 'support', 'and', 'resistance', 'by', 'dukascopy,', 'dukascopy', 'swiss', 'forex', 'bank', '&amp;', 'marketplace', 'registration', 'open', 'live', 'account', 'demo', 'account', '/', 'b…support', 'and', 'resistance', 'by', 'dukascopy,', 'dukascopy', 'swiss', 'forex', 'bank', '&amp;', 'marketplace', 'registration', 'open', 'live', 'account', 'demo', 'a…', 'freedom', 'of', 'press', 'to', 'be', 'blithering', 'morons', 'benefits', 'trump', 'why', 'would', 'he', 'wan…', '-fire', 'and', 'fury:', 'trump', 'says', 'book', 'is', '‘fiction’', 'and', 'author', 'a', '‘fraud’', ':', 'crazy', 'trump', 'griped', 'about', \"obama's\", 'mental', 'healthdonald', 'j.', 'trump', 'on', 'twitter:', '\"i', 'am', 'starting', 'to', 'think', 'that', 'there', 'is', '...', 'j.', 'trump', 'on', 'twitter:', '\"who', \"wouldn't\", 'take', \"kate's\", 'picture', 'and', '...nearly', ',000', 'salvadorans,', 'trump', 'administration,', 'el', 'salvador', '【fr:69.9t/m】crazy', 'trump', 'griped', 'about', \"obama's\", 'mental', 'healthdonald', 'j.', 'trump', 'on', 'twitter:', '\"i', 'am', 'starting', 'to', 'think', 'that', 'there', 'is', '..…', ':', 'bannon', 'apologizes', 'to', 'trump,', 'but', 'is', 'it', 'too', 'late?', \"don't\", 'get', 'to', 'cry', 'about', 'people', 'questioning', 'your', 'mental', 'health.', 'you', \"don't.\", 'what', 'goes', 'around,', 'comes', 'around.', '…', 'apologizes', 'to', 'trump,', 'but', 'is', 'it', 'too', 'late?', 'all', 'that', 'chest-thumping', 'for', 'years', 'about', 'how', 'patriotic', 'they', 'are.while', 'trump', 'and', 'the', 'gop', 'w…', ':', 'crazy', 'trump', 'griped', 'about', \"obama's\", 'mental', 'healthdonald', 'j.', 'trump', 'on', 'twitter:', '\"i', 'am', 'starting', 'to', 'think', 'that', 'there', 'is', '...', 'trump', 'griped', 'about', \"obama's\", 'mental', 'healthdonald', 'j.', 'trump', 'on', 'twitter:', '\"i', 'am', 'starting', 'to', 'think', 'that', 'there', 'is', '..…', 'pop-up', 'book', 'version', 'of', 'the', 'new', '\"fire', 'and', 'fury\"', 'trump', 'eé', 'exists,', 'to', 'streamline', 'your', 'reading', 'via…', 'urchase', 'at', ':trump', ':carpet', ':velvet', 'eech', ':golden', 'globe', ':the', 'red', ':neck', ':award…', 'i', 'would', 'think', 'so,', 'but', 'look', 'at', 'how', 'many', 'support', 'trump', 'working', 'to', 'save', \"obama's\", ':…', 'palm', '&lt;blockquote', 'class=\"twitter-tweet\"', 'data-lang=\"en\"&gt;&lt', 'lang=\"en\"', 'dir=\"ltr\"&gt;....to', 'president', 'of', 'the', 'united', 'st…', 'the', 'actual', 'live', 'tweet', 'where', 'trump', 'said', 'this:', 'and', 'archived:', ':', 'and', 'here', 'he', 'is', 'on', 'twitter,', 'this', 'september,', 'taking', 'credit', 'for', \"trump's\", 'victory!', ':', 'and', 'here', 'he', 'is', 'on', 'twitter,', 'this', 'september,', 'taking', 'credit', 'for', \"trump's\", 'victory!', ':', 'and', 'here', 'he', 'is', 'on', 'twitter,', 'this', 'september,', 'taking', 'credit', 'for', \"trump's\", 'victory!', ':', 'and', 'here', 'he', 'is', 'on', 'twitter,', 'this', 'september,', 'taking', 'credit', 'for', \"trump's\", 'victory!', ':', 'and', 'here', 'he', 'is', 'on', 'twitter,', 'this', 'september,', 'taking', 'credit', 'for', \"trump's\", 'victory!', ':', 'and', 'here', 'he', 'is', 'on', 'twitter,', 'this', 'september,', 'taking', 'credit', 'for', \"trump's\", 'victory!', ':', 'and', 'here', 'he', 'is', 'on', 'twitter,', 'this', 'september,', 'taking', 'credit', 'for', \"trump's\", 'victory!', ':', 'and', 'here', 'he', 'is', 'on', 'twitter,', 'this', 'september,', 'taking', 'credit', 'for', \"trump's\", 'victory!', ':', 'and', 'here', 'he', 'is', 'on', 'twitter,', 'this', 'september,', 'taking', 'credit', 'for', \"trump's\", 'victory!', ':', 'and', 'here', 'he', 'is', 'on', 'twitter,', 'this', 'september,', 'taking', 'credit', 'for', \"trump's\", 'victory!', '&lt;blockquote', 'class=\"twitter-video\"', 'data-lang=\"en\"&gt;&lt', 'lang=\"en\"', 'dir=\"ltr\"&gthepard', 'smith', 'fact', 'checks…', ':', 'and', 'here', 'he', 'is', 'on', 'twitter,', 'this', 'september,', 'taking', 'credit', 'for', \"trump's\", 'victory!', ':', 'and', 'here', 'he', 'is', 'on', 'twitter,', 'this', 'september,', 'taking', 'credit', 'for', \"trump's\", 'victory!', ':', 'and', 'here', 'he', 'is', 'on', 'twitter,', 'this', 'september,', 'taking', 'credit', 'for', \"trump's\", 'victory!', ':', 'and', 'here', 'he', 'is', 'on', 'twitter,', 'this', 'september,', 'taking', 'credit', 'for', \"trump's\", 'victory!', ':', 'and', 'here', 'he', 'is', 'on', 'twitter,', 'this', 'september,', 'taking', 'credit', 'for', \"trump's\", 'victory!', ':', 'and', 'here', 'he', 'is', 'on', 'twitter,', 'this', 'september,', 'taking', 'credit', 'for', \"trump's\", 'victory!', ':', 'and', 'here', 'he', 'is', 'on', 'twitter,', 'this', 'september,', 'taking', 'credit', 'for', \"trump's\", 'victory!', ':', 'and', 'here', 'he', 'is', 'on', 'twitter,', 'this', 'september,', 'taking', 'credit', 'for', \"trump's\", 'victory!', ':', 'and', 'here', 'he', 'is', 'on', 'twitter,', 'this', 'september,', 'taking', 'credit', 'for', \"trump's\", 'victory!', ':', 'and', 'here', 'he', 'is', 'on', 'twitter,', 'this', 'september,', 'taking', 'credit', 'for', \"trump's\", 'victory!', ':', 'and', 'here', 'he', 'is', 'on', 'twitter,', 'this', 'september,', 'taking', 'credit', 'for', \"trump's\", 'victory!', ':', 'and', 'here', 'he', 'is', 'on', 'twitter,', 'this', 'september,', 'taking', 'credit', 'for', \"trump's\", 'victory!', ':', 'and', 'here', 'he', 'is', 'on', 'twitter,', 'this', 'september,', 'taking', 'credit', 'for', \"trump's\", 'victory!', ':', 'and', 'here', 'he', 'is', 'on', 'twitter,', 'this', 'september,', 'taking', 'credit', 'for', \"trump's\", 'victory!', ':', 'and', 'here', 'he', 'is', 'on', 'twitter,', 'this', 'september,', 'taking', 'credit', 'for', \"trump's\", 'victory!', ':', 'and', 'here', 'he', 'is', 'on', 'twitter,', 'this', 'september,', 'taking', 'credit', 'for', \"trump's\", 'victory!', ':', 'and', 'here', 'he', 'is', 'on', 'twitter,', 'this', 'september,', 'taking', 'credit', 'for', \"trump's\", 'victory!', ':', 'and', 'here', 'he', 'is', 'on', 'twitter,', 'this', 'september,', 'taking', 'credit', 'for', \"trump's\", 'victory!', ':', 'and', 'here', 'he', 'is', 'on', 'twitter,', 'this', 'september,', 'taking', 'credit', 'for', \"trump's\", 'victory!', '&lt;blockquote', 'class=\"twitter-video\"', 'data-lang=\"en\"&gt;&lt', 'lang=\"en\"', 'dir=\"ltr\"&gthepard', 'smith', 'fact', 'checks…', ':', 'and', 'here', 'he', 'is', 'on', 'twitter,', 'this', 'september,', 'taking', 'credit', 'for', \"trump's\", 'victory!', ':', 'and', 'here', 'he', 'is', 'on', 'twitter,', 'this', 'september,', 'taking', 'credit', 'for', \"trump's\", 'victory!', ':', 'and', 'here', 'he', 'is', 'on', 'twitter,', 'this', 'september,', 'taking', 'credit', 'for', \"trump's\", 'victory!', ':', 'and', 'here', 'he', 'is', 'on', 'twitter,', 'this', 'september,', 'taking', 'credit', 'for', \"trump's\", 'victory!', ':', 'and', 'here', 'he', 'is', 'on', 'twitter,', 'this', 'september,', 'taking', 'credit', 'for', \"trump's\", 'victory!', ':', 'and', 'here', 'he', 'is', 'on', 'twitter,', 'this', 'september,', 'taking', 'credit', 'for', \"trump's\", 'victory!', ':', 'and', 'here', 'he', 'is', 'on', 'twitter,', 'this', 'september,', 'taking', 'credit', 'for', \"trump's\", 'victory!', ':', 'and', 'here', 'he', 'is', 'on', 'twitter,', 'this', 'september,', 'taking', 'credit', 'for', \"trump's\", 'victory!', ':', 'and', 'here', 'he', 'is', 'on', 'twitter,', 'this', 'september,', 'taking', 'credit', 'for', \"trump's\", 'victory!', ':', 'and', 'here', 'he', 'is', 'on', 'twitter,', 'this', 'september,', 'taking', 'credit', 'for', \"trump's\", 'victory!', ':', 'and', 'here', 'he', 'is', 'on', 'twitter,', 'this', 'september,', 'taking', 'credit', 'for', \"trump's\", 'victory!', ':', 'and', 'here', 'he', 'is', 'on', 'twitter,', 'this', 'september,', 'taking', 'credit', 'for', \"trump's\", 'victory!', ':', 'and', 'here', 'he', 'is', 'on', 'twitter,', 'this', 'september,', 'taking', 'credit', 'for', \"trump's\", 'victory!', ':', 'and', 'here', 'he', 'is', 'on', 'twitter,', 'this', 'september,', 'taking', 'credit', 'for', \"trump's\", 'victory!', ':', 'and', 'here', 'he', 'is', 'on', 'twitter,', 'this', 'september,', 'taking', 'credit', 'for', \"trump's\", 'victory!', ':', 'and', 'here', 'he', 'is', 'on', 'twitter,', 'this', 'september,', 'taking', 'credit', 'for', \"trump's\", 'victory!', ':', 'and', 'here', 'he', 'is', 'on', 'twitter,', 'this', 'september,', 'taking', 'credit', 'for', \"trump's\", 'victory!', ':', 'and', 'here', 'he', 'is', 'on', 'twitter,', 'this', 'september,', 'taking', 'credit', 'for', \"trump's\", 'victory!', ':', 'and', 'here', 'he', 'is', 'on', 'twitter,', 'this', 'september,', 'taking', 'credit', 'for', \"trump's\", 'victory!', '&lt;blockquote', 'class=\"twitter-video\"', 'data-lang=\"en\"&gt;&lt', 'lang=\"en\"', 'dir=\"ltr\"&gthepard', 'smith', 'fact', 'checks…', ':', 'and', 'here', 'he', 'is', 'on', 'twitter,', 'this', 'september,', 'taking', 'credit', 'for', \"trump's\", 'victory!', ':', 'and', 'here', 'he', 'is', 'on', 'twitter,', 'this', 'september,', 'taking', 'credit', 'for', \"trump's\", 'victory!', ':', 'and', 'here', 'he', 'is', 'on', 'twitter,', 'this', 'september,', 'taking', 'credit', 'for', \"trump's\", 'victory!', ':', 'and', 'here', 'he', 'is', 'on', 'twitter,', 'this', 'september,', 'taking', 'credit', 'for', \"trump's\", 'victory!', ':', 'and', 'here', 'he', 'is', 'on', 'twitter,', 'this', 'september,', 'taking', 'credit', 'for', \"trump's\", 'victory!', ':', 'and', 'here', 'he', 'is', 'on', 'twitter,', 'this', 'september,', 'taking', 'credit', 'for', \"trump's\", 'victory!', ':', 'and', 'here', 'he', 'is', 'on', 'twitter,', 'this', 'september,', 'taking', 'credit', 'for', \"trump's\", 'victory!', ':', 'and', 'here', 'he', 'is', 'on', 'twitter,', 'this', 'september,', 'taking', 'credit', 'for', \"trump's\", 'victory!', ':', 'and', 'here', 'he', 'is', 'on', 'twitter,', 'this', 'september,', 'taking', 'credit', 'for', \"trump's\", 'victory!', ':', 'and', 'here', 'he', 'is', 'on', 'twitter,', 'this', 'september,', 'taking', 'credit', 'for', \"trump's\", 'victory!', ':', 'and', 'here', 'he', 'is', 'on', 'twitter,', 'this', 'september,', 'taking', 'credit', 'for', \"trump's\", 'victory!', ':', 'and', 'here', 'he', 'is', 'on', 'twitter,', 'this', 'september,', 'taking', 'credit', 'for', \"trump's\", 'victory!', ':', 'and', 'here', 'he', 'is', 'on', 'twitter,', 'this', 'september,', 'taking', 'credit', 'for', \"trump's\", 'victory!', ':', 'and', 'here', 'he', 'is', 'on', 'twitter,', 'this', 'september,', 'taking', 'credit', 'for', \"trump's\", 'victory!', ':', 'and', 'here', 'he', 'is', 'on', 'twitter,', 'this', 'september,', 'taking', 'credit', 'for', \"trump's\", 'victory!', ':', 'and', 'here', 'he', 'is', 'on', 'twitter,', 'this', 'september,', 'taking', 'credit', 'for', \"trump's\", 'victory!', ':', 'and', 'here', 'he', 'is', 'on', 'twitter,', 'this', 'september,', 'taking', 'credit', 'for', \"trump's\", 'victory!', ':', 'and', 'here', 'he', 'is', 'on', 'twitter,', 'this', 'september,', 'taking', 'credit', 'for', \"trump's\", 'victory!', ':', 'and', 'here', 'he', 'is', 'on', 'twitter,', 'this', 'september,', 'taking', 'credit', 'for', \"trump's\", 'victory!', '&lt;blockquote', 'class=\"twitter-video\"', 'data-lang=\"en\"&gt;&lt', 'lang=\"en\"', 'dir=\"ltr\"&gthepard', 'smith', 'fact', 'checks…', ':', 'and', 'here', 'he', 'is', 'on', 'twitter,', 'this', 'september,', 'taking', 'credit', 'for', \"trump's\", 'victory!', ':', 'and', 'here', 'he', 'is', 'on', 'twitter,', 'this', 'september,', 'taking', 'credit', 'for', \"trump's\", 'victory!', ':', 'and', 'here', 'he', 'is', 'on', 'twitter,', 'this', 'september,', 'taking', 'credit', 'for', \"trump's\", 'victory!', ':', 'and', 'here', 'he', 'is', 'on', 'twitter,', 'this', 'september,', 'taking', 'credit', 'for', \"trump's\", 'victory!', ':', 'and', 'here', 'he', 'is', 'on', 'twitter,', 'this', 'september,', 'taking', 'credit', 'for', \"trump's\", 'victory!', ':', 'and', 'here', 'he', 'is', 'on', 'twitter,', 'this', 'september,', 'taking', 'credit', 'for', \"trump's\", 'victory!', ':', 'and', 'here', 'he', 'is', 'on', 'twitter,', 'this', 'september,', 'taking', 'credit', 'for', \"trump's\", 'victory!', ':', 'and', 'here', 'he', 'is', 'on', 'twitter,', 'this', 'september,', 'taking', 'credit', 'for', \"trump's\", 'victory!', ':', 'and', 'here', 'he', 'is', 'on', 'twitter,', 'this', 'september,', 'taking', 'credit', 'for', \"trump's\", 'victory!', ':', 'and', 'here', 'he', 'is', 'on', 'twitter,', 'this', 'september,', 'taking', 'credit', 'for', \"trump's\", 'victory!', ':', 'trump', 'said', 'u.s.', 'should', 'keep', 'out', 'immigrants', 'from', '\"shithole', 'countries\"', 'including', 'haiti.', 'the', 'star', 'running', 'back', 'of', 'u.', 'of', 'geo…rt', ':', 'mexico', 'will', 'leave', 'nafta', 'talks', 'if', 'trump', 'triggers', 'process', 'to', 'withdrawhttps://', ':', 'trump', 'said', 'u.s.', 'should', 'keep', 'out', 'immigrants', 'from', '\"shithole', 'countries\"', 'including', 'haiti.', 'the', 'star', 'running', 'back', 'of', 'u.', 'of', 'geo…rt', ':', 'trump', 'said', 'u.s.', 'should', 'keep', 'out', 'immigrants', 'from', '\"shithole', 'countries\"', 'including', 'haiti.', 'the', 'star', 'running', 'back', 'of', 'u.', 'of', 'geo…rt', ':', 'did', 'it', 'make', 'a', 'difference', 'that', 'donald', 'trump', 'voiced', 'public', 'support', 'for', 'the', 'protests', 'in', 'iran?', 'https:…', '&lt;blockquote', 'class=\"twitter-tweet\"', 'data-lang=\"en\"&gt;&lt', 'lang=\"en\"', 'dir=\"ltr\"&gt;&lt;a', 'href=\"…', ':', 'and', 'here', 'he', 'is', 'on', 'twitter,', 'this', 'september,', 'taking', 'credit', 'for', \"trump's\", 'victory!', ':', 'and', 'here', 'he', 'is', 'on', 'twitter,', 'this', 'september,', 'taking', 'credit', 'for', \"trump's\", 'victory!', ':', 'did', 'it', 'make', 'a', 'difference', 'that', 'donald', 'trump', 'voiced', 'public', 'support', 'for', 'the', 'protests', 'in', 'iran?', 'https:…rt', ':', 'and', 'here', 'he', 'is', 'on', 'twitter,', 'this', 'september,', 'taking', 'credit', 'for', \"trump's\", 'victory!', ':', 'trump', 'said', 'u.s.', 'should', 'keep', 'out', 'immigrants', 'from', '\"shithole', 'countries\"', 'including', 'haiti.', 'the', 'star', 'running', 'back', 'of', 'u.', 'of', 'geo…rt', ':', 'trump', 'said', 'u.s.', 'should', 'keep', 'out', 'immigrants', 'from', '\"shithole', 'countries\"', 'including', 'haiti.', 'the', 'star', 'running', 'back', 'of', 'u.', 'of', 'geo…rt', ':', 'trump', 'said', 'u.s.', 'should', 'keep', 'out', 'immigrants', 'from', '\"shithole', 'countries\"', 'including', 'haiti.', 'the', 'star', 'running', 'back', 'of', 'u.', 'of', 'geo…rt', ':', 'trump', 'said', 'u.s.', 'should', 'keep', 'out', 'immigrants', 'from', '\"shithole', 'countries\"', 'including', 'haiti.', 'the', 'star', 'running', 'back', 'of', 'u.', 'of', 'geo…rt', ':', 'trump', 'said', 'u.s.', 'should', 'keep', 'out', 'immigrants', 'from', '\"shithole', 'countries\"', 'including', 'haiti.', 'the', 'star', 'running', 'back', 'of', 'u.', 'of', 'geo…rt', ':', 'trump', 'said', 'u.s.', 'should', 'keep', 'out', 'immigrants', 'from', '\"shithole', 'countries\"', 'including', 'haiti.', 'the', 'star', 'running', 'back', 'of', 'u.', 'of', 'geo…rt', ':', 'trump', 'said', 'u.s.', 'should', 'keep', 'out', 'immigrants', 'from', '\"shithole', 'countries\"', 'including', 'haiti.', 'the', 'star', 'running', 'back', 'of', 'u.', 'of', 'geo…rt', ':', 'trump', 'said', 'u.s.', 'should', 'keep', 'out', 'immigrants', 'from', '\"shithole', 'countries\"', 'including', 'haiti.', 'the', 'star', 'running', 'back', 'of', 'u.', 'of', 'geo…rt', ':', 'trump', 'said', 'u.s.', 'should', 'keep', 'out', 'immigrants', 'from', '\"shithole', 'countries\"', 'including', 'haiti.', 'the', 'star', 'running', 'back', 'of', 'u.', 'of', 'geo…rt', ':', 'and', 'here', 'he', 'is', 'on', 'twitter,', 'this', 'september,', 'taking', 'credit', 'for', \"trump's\", 'victory!', ':', 'trump', 'said', 'u.s.', 'should', 'keep', 'out', 'immigrants', 'from', '\"shithole', 'countries\"', 'including', 'haiti.', 'the', 'star', 'running', 'back', 'of', 'u.', 'of', 'geo…rt', ':', 'mexico', 'will', 'leave', 'nafta', 'talks', 'if', 'trump', 'triggers', 'process', 'to', 'withdrawhttps://', ':', 'trump', 'said', 'u.s.', 'should', 'keep', 'out', 'immigrants', 'from', '\"shithole', 'countries\"', 'including', 'haiti.', 'the', 'star', 'running', 'back', 'of', 'u.', 'of', 'geo…rt', ':', 'trump', 'said', 'u.s.', 'should', 'keep', 'out', 'immigrants', 'from', '\"shithole', 'countries\"', 'including', 'haiti.', 'the', 'star', 'running', 'back', 'of', 'u.', 'of', 'geo…rt', ':', 'did', 'it', 'make', 'a', 'difference', 'that', 'donald', 'trump', 'voiced', 'public', 'support', 'for', 'the', 'protests', 'in', 'iran?', 'https:…', '&lt;blockquote', 'class=\"twitter-tweet\"', 'data-lang=\"en\"&gt;&lt', 'lang=\"en\"', 'dir=\"ltr\"&gt;&lt;a', 'href=\"…', ':', 'and', 'here', 'he', 'is', 'on', 'twitter,', 'this', 'september,', 'taking', 'credit', 'for', \"trump's\", 'victory!', ':', 'and', 'here', 'he', 'is', 'on', 'twitter,', 'this', 'september,', 'taking', 'credit', 'for', \"trump's\", 'victory!', ':', 'did', 'it', 'make', 'a', 'difference', 'that', 'donald', 'trump', 'voiced', 'public', 'support', 'for', 'the', 'protests', 'in', 'iran?', 'https:…rt', ':', 'and', 'here', 'he', 'is', 'on', 'twitter,', 'this', 'september,', 'taking', 'credit', 'for', \"trump's\", 'victory!', ':', 'trump', 'said', 'u.s.', 'should', 'keep', 'out', 'immigrants', 'from', '\"shithole', 'countries\"', 'including', 'haiti.', 'the', 'star', 'running', 'back', 'of', 'u.', 'of', 'geo…rt', ':', 'trump', 'said', 'u.s.', 'should', 'keep', 'out', 'immigrants', 'from', '\"shithole', 'countries\"', 'including', 'haiti.', 'the', 'star', 'running', 'back', 'of', 'u.', 'of', 'geo…rt', ':', 'trump', 'said', 'u.s.', 'should', 'keep', 'out', 'immigrants', 'from', '\"shithole', 'countries\"', 'including', 'haiti.', 'the', 'star', 'running', 'back', 'of', 'u.', 'of', 'geo…rt', ':', 'trump', 'said', 'u.s.', 'should', 'keep', 'out', 'immigrants', 'from', '\"shithole', 'countries\"', 'including', 'haiti.', 'the', 'star', 'running', 'back', 'of', 'u.', 'of', 'geo…rt', ':', 'trump', 'said', 'u.s.', 'should', 'keep', 'out', 'immigrants', 'from', '\"shithole', 'countries\"', 'including', 'haiti.', 'the', 'star', 'running', 'back', 'of', 'u.', 'of', 'geo…rt', ':', 'trump', 'said', 'u.s.', 'should', 'keep', 'out', 'immigrants', 'from', '\"shithole', 'countries\"', 'including', 'haiti.', 'the', 'star', 'running', 'back', 'of', 'u.', 'of', 'geo…rt', ':', 'trump', 'said', 'u.s.', 'should', 'keep', 'out', 'immigrants', 'from', '\"shithole', 'countries\"', 'including', 'haiti.', 'the', 'star', 'running', 'back', 'of', 'u.', 'of', 'geo…rt', ':', 'trump', 'said', 'u.s.', 'should', 'keep', 'out', 'immigrants', 'from', '\"shithole', 'countries\"', 'including', 'haiti.', 'the', 'star', 'running', 'back', 'of', 'u.', 'of', 'geo…rt', ':', 'trump', 'said', 'u.s.', 'should', 'keep', 'out', 'immigrants', 'from', '\"shithole', 'countries\"', 'including', 'haiti.', 'the', 'star', 'running', 'back', 'of', 'u.', 'of', 'geo…rt', ':', 'and', 'here', 'he', 'is', 'on', 'twitter,', 'this', 'september,', 'taking', 'credit', 'for', \"trump's\", 'victory!', ':', 'trump', 'said', 'u.s.', 'should', 'keep', 'out', 'immigrants', 'from', '\"shithole', 'countries\"', 'including', 'haiti.', 'the', 'star', 'running', 'back', 'of', 'u.', 'of', 'geo…rt', ':', 'mexico', 'will', 'leave', 'nafta', 'talks', 'if', 'trump', 'triggers', 'process', 'to', 'withdrawhttps://', ':', 'trump', 'said', 'u.s.', 'should', 'keep', 'out', 'immigrants', 'from', '\"shithole', 'countries\"', 'including', 'haiti.', 'the', 'star', 'running', 'back', 'of', 'u.', 'of', 'geo…rt', ':', 'trump', 'said', 'u.s.', 'should', 'keep', 'out', 'immigrants', 'from', '\"shithole', 'countries\"', 'including', 'haiti.', 'the', 'star', 'running', 'back', 'of', 'u.', 'of', 'geo…rt', ':', 'did', 'it', 'make', 'a', 'difference', 'that', 'donald', 'trump', 'voiced', 'public', 'support', 'for', 'the', 'protests', 'in', 'iran?', 'https:…', '&lt;blockquote', 'class=\"twitter-tweet\"', 'data-lang=\"en\"&gt;&lt', 'lang=\"en\"', 'dir=\"ltr\"&gt;&lt;a', 'href=\"…', ':', 'and', 'here', 'he', 'is', 'on', 'twitter,', 'this', 'september,', 'taking', 'credit', 'for', \"trump's\", 'victory!', ':', 'and', 'here', 'he', 'is', 'on', 'twitter,', 'this', 'september,', 'taking', 'credit', 'for', \"trump's\", 'victory!', ':', 'did', 'it', 'make', 'a', 'difference', 'that', 'donald', 'trump', 'voiced', 'public', 'support', 'for', 'the', 'protests', 'in', 'iran?', 'https:…rt', ':', 'and', 'here', 'he', 'is', 'on', 'twitter,', 'this', 'september,', 'taking', 'credit', 'for', \"trump's\", 'victory!', ':', 'trump', 'said', 'u.s.', 'should', 'keep', 'out', 'immigrants', 'from', '\"shithole', 'countries\"', 'including', 'haiti.', 'the', 'star', 'running', 'back', 'of', 'u.', 'of', 'geo…rt', ':', 'trump', 'said', 'u.s.', 'should', 'keep', 'out', 'immigrants', 'from', '\"shithole', 'countries\"', 'including', 'haiti.', 'the', 'star', 'running', 'back', 'of', 'u.', 'of', 'geo…rt', ':', 'trump', 'said', 'u.s.', 'should', 'keep', 'out', 'immigrants', 'from', '\"shithole', 'countries\"', 'including', 'haiti.', 'the', 'star', 'running', 'back', 'of', 'u.', 'of', 'geo…rt', ':', 'trump', 'said', 'u.s.', 'should', 'keep', 'out', 'immigrants', 'from', '\"shithole', 'countries\"', 'including', 'haiti.', 'the', 'star', 'running', 'back', 'of', 'u.', 'of', 'geo…rt', ':', 'trump', 'said', 'u.s.', 'should', 'keep', 'out', 'immigrants', 'from', '\"shithole', 'countries\"', 'including', 'haiti.', 'the', 'star', 'running', 'back', 'of', 'u.', 'of', 'geo…rt', ':', 'trump', 'said', 'u.s.', 'should', 'keep', 'out', 'immigrants', 'from', '\"shithole', 'countries\"', 'including', 'haiti.', 'the', 'star', 'running', 'back', 'of', 'u.', 'of', 'geo…rt', ':', 'trump', 'said', 'u.s.', 'should', 'keep', 'out', 'immigrants', 'from', '\"shithole', 'countries\"', 'including', 'haiti.', 'the', 'star', 'running', 'back', 'of', 'u.', 'of', 'geo…rt', ':', 'trump', 'said', 'u.s.', 'should', 'keep', 'out', 'immigrants', 'from', '\"shithole', 'countries\"', 'including', 'haiti.', 'the', 'star', 'running', 'back', 'of', 'u.', 'of', 'geo…rt', ':', 'trump', 'said', 'u.s.', 'should', 'keep', 'out', 'immigrants', 'from', '\"shithole', 'countries\"', 'including', 'haiti.', 'the', 'star', 'running', 'back', 'of', 'u.', 'of', 'geo…rt', ':', 'and', 'here', 'he', 'is', 'on', 'twitter,', 'this', 'september,', 'taking', 'credit', 'for', \"trump's\", 'victory!', ':', 'trump', 'said', 'u.s.', 'should', 'keep', 'out', 'immigrants', 'from', '\"shithole', 'countries\"', 'including', 'haiti.', 'the', 'star', 'running', 'back', 'of', 'u.', 'of', 'geo…rt', ':', 'mexico', 'will', 'leave', 'nafta', 'talks', 'if', 'trump', 'triggers', 'process', 'to', 'withdrawhttps://', ':', 'trump', 'said', 'u.s.', 'should', 'keep', 'out', 'immigrants', 'from', '\"shithole', 'countries\"', 'including', 'haiti.', 'the', 'star', 'running', 'back', 'of', 'u.', 'of', 'geo…rt', ':', 'trump', 'said', 'u.s.', 'should', 'keep', 'out', 'immigrants', 'from', '\"shithole', 'countries\"', 'including', 'haiti.', 'the', 'star', 'running', 'back', 'of', 'u.', 'of', 'geo…rt', ':', 'did', 'it', 'make', 'a', 'difference', 'that', 'donald', 'trump', 'voiced', 'public', 'support', 'for', 'the', 'protests', 'in', 'iran?', 'https:…', '&lt;blockquote', 'class=\"twitter-tweet\"', 'data-lang=\"en\"&gt;&lt', 'lang=\"en\"', 'dir=\"ltr\"&gt;&lt;a', 'href=\"…', ':', 'and', 'here', 'he', 'is', 'on', 'twitter,', 'this', 'september,', 'taking', 'credit', 'for', \"trump's\", 'victory!', ':', 'and', 'here', 'he', 'is', 'on', 'twitter,', 'this', 'september,', 'taking', 'credit', 'for', \"trump's\", 'victory!', ':', 'did', 'it', 'make', 'a', 'difference', 'that', 'donald', 'trump', 'voiced', 'public', 'support', 'for', 'the', 'protests', 'in', 'iran?', 'https:…rt', ':', 'and', 'here', 'he', 'is', 'on', 'twitter,', 'this', 'september,', 'taking', 'credit', 'for', \"trump's\", 'victory!', ':', 'trump', 'said', 'u.s.', 'should', 'keep', 'out', 'immigrants', 'from', '\"shithole', 'countries\"', 'including', 'haiti.', 'the', 'star', 'running', 'back', 'of', 'u.', 'of', 'geo…rt', ':', 'trump', 'said', 'u.s.', 'should', 'keep', 'out', 'immigrants', 'from', '\"shithole', 'countries\"', 'including', 'haiti.', 'the', 'star', 'running', 'back', 'of', 'u.', 'of', 'geo…rt', ':', 'trump', 'said', 'u.s.', 'should', 'keep', 'out', 'immigrants', 'from', '\"shithole', 'countries\"', 'including', 'haiti.', 'the', 'star', 'running', 'back', 'of', 'u.', 'of', 'geo…rt', ':', 'trump', 'said', 'u.s.', 'should', 'keep', 'out', 'immigrants', 'from', '\"shithole', 'countries\"', 'including', 'haiti.', 'the', 'star', 'running', 'back', 'of', 'u.', 'of', 'geo…rt', ':', 'trump', 'said', 'u.s.', 'should', 'keep', 'out', 'immigrants', 'from', '\"shithole', 'countries\"', 'including', 'haiti.', 'the', 'star', 'running', 'back', 'of', 'u.', 'of', 'geo…rt', ':', 'trump', 'said', 'u.s.', 'should', 'keep', 'out', 'immigrants', 'from', '\"shithole', 'countries\"', 'including', 'haiti.', 'the', 'star', 'running', 'back', 'of', 'u.', 'of', 'geo…rt', ':', 'trump', 'said', 'u.s.', 'should', 'keep', 'out', 'immigrants', 'from', '\"shithole', 'countries\"', 'including', 'haiti.', 'the', 'star', 'running', 'back', 'of', 'u.', 'of', 'geo…rt', ':', 'trump', 'said', 'u.s.', 'should', 'keep', 'out', 'immigrants', 'from', '\"shithole', 'countries\"', 'including', 'haiti.', 'the', 'star', 'running', 'back', 'of', 'u.', 'of', 'geo…rt', ':', 'trump', 'said', 'u.s.', 'should', 'keep', 'out', 'immigrants', 'from', '\"shithole', 'countries\"', 'including', 'haiti.', 'the', 'star', 'running', 'back', 'of', 'u.', 'of', 'geo…rt', ':', 'i', 'mean', 'i', 'keep', 'saying', 'to', 'you,', 'sec', 'filings', 'have', 'ton', 'of', 'publicly', 'available', 'documentationon', 'the', 'decades', 'long', 'crime', 'trump', 'f…rt', ':', 'for', 'every', 'media', 'member', 'giddy', 'over', 'the', 'story', 'around', 'trump,', 'an', 'avid', 'fox', 'news', 'watcher,', 'not', 'knowing', 'who', 'john', 'boehner', 'was,', 'here…rt', ':', 'i', 'mean', 'i', 'keep', 'saying', 'to', 'you,', 'sec', 'filings', 'have', 'ton', 'of', 'publicly', 'available', 'documentationon', 'the', 'decades', 'long', 'crime', 'trump', 'f…rt', ':', 'for', 'every', 'media', 'member', 'giddy', 'over', 'the', 'story', 'around', 'trump,', 'an', 'avid', 'fox', 'news', 'watcher,', 'not', 'knowing', 'who', 'john', 'boehner', 'was,', 'here…rt', ':', 'for', 'every', 'media', 'member', 'giddy', 'over', 'the', 'story', 'around', 'trump,', 'an', 'avid', 'fox', 'news', 'watcher,', 'not', 'knowing', 'who', 'john', 'boehner', 'was,', 'here…rt', ':', 'i', 'mean', 'i', 'keep', 'saying', 'to', 'you,', 'sec', 'filings', 'have', 'ton', 'of', 'publicly', 'available', 'documentationon', 'the', 'decades', 'long', 'crime', 'trump', 'f…rt', ':', 'i', 'mean', 'i', 'keep', 'saying', 'to', 'you,', 'sec', 'filings', 'have', 'ton', 'of', 'publicly', 'available', 'documentationon', 'the', 'decades', 'long', 'crime', 'trump', 'f…rt', ':', 'i', 'mean', 'i', 'keep', 'saying', 'to', 'you,', 'sec', 'filings', 'have', 'ton', 'of', 'publicly', 'available', 'documentationon', 'the', 'decades', 'long', 'crime', 'trump', 'f…rt', ':', 'i', 'mean', 'i', 'keep', 'saying', 'to', 'you,', 'sec', 'filings', 'have', 'ton', 'of', 'publicly', 'available', 'documentationon', 'the', 'decades', 'long', 'crime', 'trump', 'f…rt', ':', 'i', 'mean', 'i', 'keep', 'saying', 'to', 'you,', 'sec', 'filings', 'have', 'ton', 'of', 'publicly', 'available', 'documentationon', 'the', 'decades', 'long', 'crime', 'trump', 'f…', 'he', 'literally', 'is', 'talking', 'about', 'what', 'trump', '(the', 'guy', 'you', 'support)', 'said…', ':', 'i', 'mean', 'i', 'keep', 'saying', 'to', 'you,', 'sec', 'filings', 'have', 'ton', 'of', 'publicly', 'available', 'documentationon', 'the', 'decades', 'long', 'crime', 'trump', 'f…topwords(1day)', 'urchase', ':trump', ':while', 'supplies', ':velvet', 'resident', ':flash', ':neck', ':two', 'piece', ':long', 'sleeve…', 'sorry', 'mike,', \"'s\", 'been', 'doing', 'the', '\"sloppy\"', 'slur', \"('s\", ',', ',', '&amp;', ')', 'on', 'twitter', 'sin…', ':', 'i', 'mean', 'i', 'keep', 'saying', 'to', 'you,', 'sec', 'filings', 'have', 'ton', 'of', 'publicly', 'available', 'documentationon', 'the', 'decades', 'long', 'crime', 'trump', 'f…rt', ':', 'i', 'mean', 'i', 'keep', 'saying', 'to', 'you,', 'sec', 'filings', 'have', 'ton', 'of', 'publicly', 'available', 'documentationon', 'the', 'decades', 'long', 'crime', 'trump', 'f…rt', ':', 'for', 'every', 'media', 'member', 'giddy', 'over', 'the', 'story', 'around', 'trump,', 'an', 'avid', 'fox', 'news', 'watcher,', 'not', 'knowing', 'who', 'john', 'boehner', 'was,', 'here…rt', ':', 'i', 'mean', 'i', 'keep', 'saying', 'to', 'you,', 'sec', 'filings', 'have', 'ton', 'of', 'publicly', 'available', 'documentationon', 'the', 'decades', 'long', 'crime', 'trump', 'f…rt', ':', 'for', 'every', 'media', 'member', 'giddy', 'over', 'the', 'story', 'around', 'trump,', 'an', 'avid', 'fox', 'news', 'watcher,', 'not', 'knowing', 'who', 'john', 'boehner', 'was,', 'here…rt', ':', 'for', 'every', 'media', 'member', 'giddy', 'over', 'the', 'story', 'around', 'trump,', 'an', 'avid', 'fox', 'news', 'watcher,', 'not', 'knowing', 'who', 'john', 'boehner', 'was,', 'here…rt', ':', 'i', 'mean', 'i', 'keep', 'saying', 'to', 'you,', 'sec', 'filings', 'have', 'ton', 'of', 'publicly', 'available', 'documentationon', 'the', 'decades', 'long', 'crime', 'trump', 'f…rt', ':', 'i', 'mean', 'i', 'keep', 'saying', 'to', 'you,', 'sec', 'filings', 'have', 'ton', 'of', 'publicly', 'available', 'documentationon', 'the', 'decades', 'long', 'crime', 'trump', 'f…rt', ':', 'i', 'mean', 'i', 'keep', 'saying', 'to', 'you,', 'sec', 'filings', 'have', 'ton', 'of', 'publicly', 'available', 'documentationon', 'the', 'decades', 'long', 'crime', 'trump', 'f…rt', ':', 'i', 'mean', 'i', 'keep', 'saying', 'to', 'you,', 'sec', 'filings', 'have', 'ton', 'of', 'publicly', 'available', 'documentationon', 'the', 'decades', 'long', 'crime', 'trump', 'f…rt', ':', 'i', 'mean', 'i', 'keep', 'saying', 'to', 'you,', 'sec', 'filings', 'have', 'ton', 'of', 'publicly', 'available', 'documentationon', 'the', 'decades', 'long', 'crime', 'trump', 'f…', 'he', 'literally', 'is', 'talking', 'about', 'what', 'trump', '(the', 'guy', 'you', 'support)', 'said…', ':', 'i', 'mean', 'i', 'keep', 'saying', 'to', 'you,', 'sec', 'filings', 'have', 'ton', 'of', 'publicly', 'available', 'documentationon', 'the', 'decades', 'long', 'crime', 'trump', 'f…topwords(1day)', 'urchase', ':trump', ':while', 'supplies', ':velvet', 'resident', ':flash', ':neck', ':two', 'piece', ':long', 'sleeve…', 'sorry', 'mike,', \"'s\", 'been', 'doing', 'the', '\"sloppy\"', 'slur', \"('s\", ',', ',', '&amp;', ')', 'on', 'twitter', 'sin…', ':', 'i', 'mean', 'i', 'keep', 'saying', 'to', 'you,', 'sec', 'filings', 'have', 'ton', 'of', 'publicly', 'available', 'documentationon', 'the', 'decades', 'long', 'crime', 'trump', 'f…', \"trump's\", 'motive', 'in', 'the', 'russia', 'scandal', 'is', 'to', 'keep', 'th…', 'jacob', 'is', 'a', 'con', 'just', 'like', 'trump,', 'just', 'google', 'his', 'name', 'to', 'see', 'for', 'yourself…', ':', 'monsieur', 'jack', 'lang', 'en', 'tant', 'que', 'président', 'de', \"l'institut\", 'du', 'monde', 'arabe', 'ferait', 'mieux', 'de', 'lâcher', 'trump', 'et', 'de', \"s'attaqu…rt\", ':', 'monsieur', 'jack', 'lang', 'en', 'tant', 'que', 'président', 'de', \"l'institut\", 'du', 'monde', 'arabe', 'ferait', 'mieux', 'de', 'lâcher', 'trump', 'et', 'de', \"s'attaqu…rt\", ':', 'trump', 'says', 'he', 'can', 'use', 'nafta', 'money', 'to', 'make', 'mexico', 'pay', 'for', 'the', 'wall...', ':', 'monsieur', 'jack', 'lang', 'en', 'tant', 'que', 'président', 'de', \"l'institut\", 'du', 'monde', 'arabe', 'ferait', 'mieux', 'de', 'lâcher', 'trump', 'et', 'de', \"s'attaqu…rt\", ':', 'and', 'here', 'he', 'is', 'on', 'twitter,', 'this', 'september,', 'taking', 'credit', 'for', \"trump's\", 'victory!', ':', 'and', 'here', 'he', 'is', 'on', 'twitter,', 'this', 'september,', 'taking', 'credit', 'for', \"trump's\", 'victory!', ':', 'it', 'is', 'positive', 'that', 'yesterday', 'president', 'donald', 'trump', 'confirmed', 'that', 'the', 'united', 'states', 'will', 'resp…', ':', 'monsieur', 'jack', 'lang', 'en', 'tant', 'que', 'président', 'de', \"l'institut\", 'du', 'monde', 'arabe', 'ferait', 'mieux', 'de', 'lâcher', 'trump', 'et', 'de', \"s'attaqu…rt\", ':', 'monsieur', 'jack', 'lang', 'en', 'tant', 'que', 'président', 'de', \"l'institut\", 'du', 'monde', 'arabe', 'ferait', 'mieux', 'de', 'lâcher', 'trump', 'et', 'de', \"s'attaqu…topwords(1day)\", 'urchase', 'at', ':trump', 'resident', ':get', 'them', ':racist', ':many', 'items', ':newest', ':new', 'years…', 'a', 'second', 'i', 'thought', 'we', 'came', 'a', 'little', 'too', 'close', 'to', 'another', 'one', 'of', 'those', '\"trump', 'predicts', 'himself\"', 'things:', ':', 'and', 'here', 'he', 'is', 'on', 'twitter,', 'this', 'september,', 'taking', 'credit', 'for', \"trump's\", 'victory!', ':', 'monsieur', 'jack', 'lang', 'en', 'tant', 'que', 'président', 'de', \"l'institut\", 'du', 'monde', 'arabe', 'ferait', 'mieux', 'de', 'lâcher', 'trump', 'et', 'de', \"s'attaqu…\", 'monsieur', 'jack', 'lang', 'en', 'tant', 'que', 'président', 'de', \"l'institut\", 'du', 'monde', 'arabe', 'ferait', 'mieux', 'de', 'lâcher', 'trump', 'et', 'de…', ':', 'like', 'eff', 'justice', 'needs', 'jz', 'to', 'remain', 'relevant?there', 'are', 'always', 'more', 'effective', 'options', 'than', 'violence.…ass', 'hole', 'london', 'mayor', 'sadiq', 'khanprzt', 'trump', 'u', 'have', 'genuine', 'loving', 'supporterswhen', 'ever', 'u', 'decided', 'visit', 'our', 'beauti…', ':', 'trump', 'fan', 'maga', 'collection', 'collection', 'via', '…', 'via', '…rt', ':', 'and', 'here', 'he', 'is', 'on', 'twitter,', 'this', 'september,', 'taking', 'credit', 'for', \"trump's\", 'victory!', \"trump's\", 'motive', 'in', 'the', 'russia', 'scandal', 'is', 'to', 'keep', 'th…', 'jacob', 'is', 'a', 'con', 'just', 'like', 'trump,', 'just', 'google', 'his', 'name', 'to', 'see', 'for', 'yourself…', ':', 'monsieur', 'jack', 'lang', 'en', 'tant', 'que', 'président', 'de', \"l'institut\", 'du', 'monde', 'arabe', 'ferait', 'mieux', 'de', 'lâcher', 'trump', 'et', 'de', \"s'attaqu…rt\", ':', 'monsieur', 'jack', 'lang', 'en', 'tant', 'que', 'président', 'de', \"l'institut\", 'du', 'monde', 'arabe', 'ferait', 'mieux', 'de', 'lâcher', 'trump', 'et', 'de', \"s'attaqu…rt\", ':', 'trump', 'says', 'he', 'can', 'use', 'nafta', 'money', 'to', 'make', 'mexico', 'pay', 'for', 'the', 'wall...', ':', 'monsieur', 'jack', 'lang', 'en', 'tant', 'que', 'président', 'de', \"l'institut\", 'du', 'monde', 'arabe', 'ferait', 'mieux', 'de', 'lâcher', 'trump', 'et', 'de', \"s'attaqu…rt\", ':', 'and', 'here', 'he', 'is', 'on', 'twitter,', 'this', 'september,', 'taking', 'credit', 'for', \"trump's\", 'victory!', ':', 'and', 'here', 'he', 'is', 'on', 'twitter,', 'this', 'september,', 'taking', 'credit', 'for', \"trump's\", 'victory!', ':', 'it', 'is', 'positive', 'that', 'yesterday', 'president', 'donald', 'trump', 'confirmed', 'that', 'the', 'united', 'states', 'will', 'resp…', ':', 'monsieur', 'jack', 'lang', 'en', 'tant', 'que', 'président', 'de', \"l'institut\", 'du', 'monde', 'arabe', 'ferait', 'mieux', 'de', 'lâcher', 'trump', 'et', 'de', \"s'attaqu…rt\", ':', 'monsieur', 'jack', 'lang', 'en', 'tant', 'que', 'président', 'de', \"l'institut\", 'du', 'monde', 'arabe', 'ferait', 'mieux', 'de', 'lâcher', 'trump', 'et', 'de', \"s'attaqu…topwords(1day)\", 'urchase', 'at', ':trump', 'resident', ':get', 'them', ':racist', ':many', 'items', ':newest', ':new', 'years…', 'a', 'second', 'i', 'thought', 'we', 'came', 'a', 'little', 'too', 'close', 'to', 'another', 'one', 'of', 'those', '\"trump', 'predicts', 'himself\"', 'things:', ':', 'and', 'here', 'he', 'is', 'on', 'twitter,', 'this', 'september,', 'taking', 'credit', 'for', \"trump's\", 'victory!', ':', 'monsieur', 'jack', 'lang', 'en', 'tant', 'que', 'président', 'de', \"l'institut\", 'du', 'monde', 'arabe', 'ferait', 'mieux', 'de', 'lâcher', 'trump', 'et', 'de', \"s'attaqu…\", 'monsieur', 'jack', 'lang', 'en', 'tant', 'que', 'président', 'de', \"l'institut\", 'du', 'monde', 'arabe', 'ferait', 'mieux', 'de', 'lâcher', 'trump', 'et', 'de…', ':', 'like', 'eff', 'justice', 'needs', 'jz', 'to', 'remain', 'relevant?there', 'are', 'always', 'more', 'effective', 'options', 'than', 'violence.…ass', 'hole', 'london', 'mayor', 'sadiq', 'khanprzt', 'trump', 'u', 'have', 'genuine', 'loving', 'supporterswhen', 'ever', 'u', 'decided', 'visit', 'our', 'beauti…', ':', 'trump', 'fan', 'maga', 'collection', 'collection', 'via', '…', 'via', '…rt', ':', 'and', 'here', 'he', 'is', 'on', 'twitter,', 'this', 'september,', 'taking', 'credit', 'for', \"trump's\", 'victory!']\n"
     ]
    }
   ],
   "source": [
    "#Tweet Processor library\n",
    "import preprocessor as p\n",
    "\n",
    "with open('tweetsCombined.txt') as inputFile:\n",
    "    data=\"\".join(line.strip().lower() for line in inputFile)\n",
    "    finalResult = (p.clean(data))\n",
    "    wordList = finalResult.split()\n",
    "    #print(wordList)\n",
    "    "
   ]
  },
  {
   "cell_type": "code",
   "execution_count": 34,
   "metadata": {
    "ExecuteTime": {
     "end_time": "2018-01-17T01:19:49.282643Z",
     "start_time": "2018-01-17T01:19:49.273320Z"
    }
   },
   "outputs": [],
   "source": [
    "inputFile.close()"
   ]
  },
  {
   "cell_type": "markdown",
   "metadata": {},
   "source": [
    "# Final calculation for words ratio"
   ]
  },
  {
   "cell_type": "code",
   "execution_count": 38,
   "metadata": {
    "ExecuteTime": {
     "end_time": "2018-01-17T01:22:23.939258Z",
     "start_time": "2018-01-17T01:22:22.359537Z"
    }
   },
   "outputs": [],
   "source": [
    "negativeWords = 0\n",
    "positiveWords = 0\n",
    "\n",
    "for word in wordList:\n",
    "    if word not in stopWordsList:\n",
    "        if word in positiveList:\n",
    "            positiveWords += 1\n",
    "        if word in negativeList:\n",
    "            negativeWords += 1"
   ]
  },
  {
   "cell_type": "code",
   "execution_count": 39,
   "metadata": {
    "ExecuteTime": {
     "end_time": "2018-01-17T01:22:25.535525Z",
     "start_time": "2018-01-17T01:22:25.524359Z"
    }
   },
   "outputs": [
    {
     "name": "stdout",
     "output_type": "stream",
     "text": [
      "Total Positive Words: 429\n",
      "Total Negative Words: 118\n"
     ]
    }
   ],
   "source": [
    "print(\"Total Positive Words:\", positiveWords)\n",
    "print(\"Total Negative Words:\", negativeWords)"
   ]
  },
  {
   "cell_type": "code",
   "execution_count": 40,
   "metadata": {
    "ExecuteTime": {
     "end_time": "2018-01-17T01:25:51.838099Z",
     "start_time": "2018-01-17T01:25:51.827800Z"
    }
   },
   "outputs": [
    {
     "name": "stdout",
     "output_type": "stream",
     "text": [
      "Positive to Negative Words Ratio: 3.635593220338983\n"
     ]
    }
   ],
   "source": [
    "wordsRatio = positiveWords/negativeWords\n",
    "print(\"Positive to Negative Words Ratio:\", wordsRatio)"
   ]
  }
 ],
 "metadata": {
  "kernelspec": {
   "display_name": "Python 3",
   "language": "python",
   "name": "python3"
  },
  "language_info": {
   "codemirror_mode": {
    "name": "ipython",
    "version": 3
   },
   "file_extension": ".py",
   "mimetype": "text/x-python",
   "name": "python",
   "nbconvert_exporter": "python",
   "pygments_lexer": "ipython3",
   "version": "3.6.4"
  },
  "toc": {
   "nav_menu": {},
   "number_sections": true,
   "sideBar": true,
   "skip_h1_title": false,
   "toc_cell": false,
   "toc_position": {},
   "toc_section_display": "block",
   "toc_window_display": false
  },
  "varInspector": {
   "cols": {
    "lenName": 16,
    "lenType": 16,
    "lenVar": 40
   },
   "kernels_config": {
    "python": {
     "delete_cmd_postfix": "",
     "delete_cmd_prefix": "del ",
     "library": "var_list.py",
     "varRefreshCmd": "print(var_dic_list())"
    },
    "r": {
     "delete_cmd_postfix": ") ",
     "delete_cmd_prefix": "rm(",
     "library": "var_list.r",
     "varRefreshCmd": "cat(var_dic_list()) "
    }
   },
   "types_to_exclude": [
    "module",
    "function",
    "builtin_function_or_method",
    "instance",
    "_Feature"
   ],
   "window_display": false
  }
 },
 "nbformat": 4,
 "nbformat_minor": 2
}
